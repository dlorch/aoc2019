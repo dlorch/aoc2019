{
 "cells": [
  {
   "cell_type": "code",
   "execution_count": 1,
   "metadata": {},
   "outputs": [],
   "source": [
    "import math\n",
    "from scipy.sparse import dok_matrix\n",
    "import numpy as np"
   ]
  },
  {
   "cell_type": "code",
   "execution_count": 2,
   "metadata": {},
   "outputs": [],
   "source": [
    "def load_input():\n",
    "    with open(\"input\") as infile:\n",
    "        data = infile.read()\n",
    "    lines = data.split(\"\\n\")\n",
    "    first_wire = lines[0].split(\",\")\n",
    "    second_wire = lines[1].split(\",\")\n",
    "    return first_wire, second_wire"
   ]
  },
  {
   "cell_type": "code",
   "execution_count": 3,
   "metadata": {},
   "outputs": [],
   "source": [
    "def manhattan(point):\n",
    "    return abs(point[0]) + abs(point[1])"
   ]
  },
  {
   "cell_type": "code",
   "execution_count": 4,
   "metadata": {},
   "outputs": [],
   "source": [
    "class Wire:\n",
    "    def __init__(self, instructions, capacity_x=40000, capacity_y=40000):\n",
    "        self.panel = dok_matrix((capacity_x, capacity_y), dtype=np.byte)\n",
    "        \n",
    "        self.central_port = (math.floor(capacity_x/2), math.floor(capacity_y/2))\n",
    "        self.reset_pos()\n",
    "        self.draw(\"o\")\n",
    "        \n",
    "        self.instructions = instructions\n",
    "        self.walk()\n",
    "\n",
    "    def real_panel_dimensions(self):\n",
    "        topleft = None\n",
    "        bottomright = None\n",
    "\n",
    "        rows, cols = self.panel.nonzero()\n",
    "        for x in rows:\n",
    "            for y in cols:\n",
    "                if topleft:\n",
    "                    if x < topleft[0]:\n",
    "                        topleft[0] = x\n",
    "                    if y < topleft[1]:\n",
    "                        topleft[1] = y\n",
    "                else:\n",
    "                    topleft = [x, y]\n",
    "                    \n",
    "                if bottomright:\n",
    "                    if x > bottomright[0]:\n",
    "                        bottomright[0] = x\n",
    "                    if y > bottomright[1]:\n",
    "                        bottomright[1] = y\n",
    "                else:\n",
    "                    bottomright = [x, y]\n",
    "                        \n",
    "        return topleft, bottomright\n",
    "        \n",
    "    def __repr__(self):\n",
    "        topleft, bottomright = self.real_panel_dimensions()\n",
    "        \n",
    "        width = bottomright[0] - topleft[0] + 1 + 2   # 1 to include extremity, 2 for 1-margin each side\n",
    "        height = bottomright[1] - topleft[1] + 1 + 2\n",
    "        \n",
    "        s = \"\"\n",
    "        for y in range(height):\n",
    "            for x in range(width):\n",
    "                c = self.panel[topleft[0] + x - 1, topleft[1] + y - 1]\n",
    "                if c == 0:\n",
    "                    s += \".\"\n",
    "                else:\n",
    "                    s += chr(c)\n",
    "            s += \"\\n\"\n",
    "        return s\n",
    "        \n",
    "    def draw(self, char):\n",
    "        self.panel[self.x, self.y] = ord(char)\n",
    "\n",
    "    def reset_pos(self):\n",
    "        self.x = self.central_port[0]\n",
    "        self.y = self.central_port[1]\n",
    "\n",
    "    def walk(self, upto=None):\n",
    "        self.reset_pos()\n",
    "        length = 0\n",
    "\n",
    "        for i, instruction in enumerate(self.instructions):\n",
    "            direction = instruction[0]\n",
    "            distance = int(instruction[1:])\n",
    "            if direction == \"R\":\n",
    "                for x in range(distance):\n",
    "                    self.x += 1\n",
    "                    length += 1\n",
    "                    if x == distance-1 and i != len(self.instructions)-1:\n",
    "                        self.draw(\"+\")\n",
    "                    else:\n",
    "                        self.draw(\"-\")\n",
    "                    \n",
    "                    if upto == (self.x - self.central_port[0], self.central_port[1] - self.y):\n",
    "                        return length\n",
    "            elif direction == \"L\":\n",
    "                for x in range(distance):\n",
    "                    self.x -= 1\n",
    "                    length += 1\n",
    "                    if x == distance-1 and i != len(self.instructions)-1:\n",
    "                        self.draw(\"+\")\n",
    "                    else:\n",
    "                        self.draw(\"-\")\n",
    "\n",
    "                    if upto == (self.x - self.central_port[0], self.central_port[1] - self.y):\n",
    "                        return length\n",
    "            elif direction == \"U\":\n",
    "                for y in range(distance):\n",
    "                    self.y -= 1\n",
    "                    length += 1\n",
    "                    if y == distance-1 and i != len(self.instructions)-1:\n",
    "                        self.draw(\"+\")\n",
    "                    else:\n",
    "                        self.draw(\"|\")\n",
    "\n",
    "                    if upto == (self.x - self.central_port[0], self.central_port[1] - self.y):\n",
    "                        return length\n",
    "            elif direction == \"D\":\n",
    "                for y in range(distance):\n",
    "                    self.y += 1\n",
    "                    length += 1\n",
    "                    if y == distance-1 and i != len(self.instructions)-1:\n",
    "                        self.draw(\"+\")\n",
    "                    else:\n",
    "                        self.draw(\"|\")\n",
    "\n",
    "                    if upto == (self.x - self.central_port[0], self.central_port[1] - self.y):\n",
    "                        return length\n",
    "        \n",
    "        return length"
   ]
  },
  {
   "cell_type": "code",
   "execution_count": 5,
   "metadata": {},
   "outputs": [],
   "source": [
    "w1 = Wire([\"R8\",\"U5\",\"L5\",\"D3\"])"
   ]
  },
  {
   "cell_type": "code",
   "execution_count": 6,
   "metadata": {},
   "outputs": [
    {
     "data": {
      "text/plain": [
       "([20000, 19995], [20008, 20000])"
      ]
     },
     "execution_count": 6,
     "metadata": {},
     "output_type": "execute_result"
    }
   ],
   "source": [
    "w1.real_panel_dimensions()"
   ]
  },
  {
   "cell_type": "code",
   "execution_count": 7,
   "metadata": {},
   "outputs": [
    {
     "data": {
      "text/plain": [
       "(20000, 20000)"
      ]
     },
     "execution_count": 7,
     "metadata": {},
     "output_type": "execute_result"
    }
   ],
   "source": [
    "w1.central_port"
   ]
  },
  {
   "cell_type": "code",
   "execution_count": 8,
   "metadata": {},
   "outputs": [
    {
     "data": {
      "text/plain": [
       "...........\n",
       "....+----+.\n",
       "....|....|.\n",
       "....|....|.\n",
       "....|....|.\n",
       ".........|.\n",
       ".o-------+.\n",
       "..........."
      ]
     },
     "execution_count": 8,
     "metadata": {},
     "output_type": "execute_result"
    }
   ],
   "source": [
    "w1"
   ]
  },
  {
   "cell_type": "code",
   "execution_count": 9,
   "metadata": {},
   "outputs": [],
   "source": [
    "w2 = Wire([\"U7\",\"R6\",\"D4\",\"L4\"])"
   ]
  },
  {
   "cell_type": "code",
   "execution_count": 10,
   "metadata": {},
   "outputs": [
    {
     "data": {
      "text/plain": [
       ".........\n",
       ".+-----+.\n",
       ".|.....|.\n",
       ".|.....|.\n",
       ".|.....|.\n",
       ".|.----+.\n",
       ".|.......\n",
       ".|.......\n",
       ".o.......\n",
       "........."
      ]
     },
     "execution_count": 10,
     "metadata": {},
     "output_type": "execute_result"
    }
   ],
   "source": [
    "w2"
   ]
  },
  {
   "cell_type": "code",
   "execution_count": 11,
   "metadata": {},
   "outputs": [],
   "source": [
    "class Panel(Wire):\n",
    "    def __init__(self, w1, w2):\n",
    "        assert(w1.panel.shape == w2.panel.shape)\n",
    "        assert(w1.central_port == w2.central_port)\n",
    "\n",
    "        self.w1 = w1\n",
    "        self.w2 = w2\n",
    "        self.panel = w1.panel.tocsc() + w2.panel.tocsc() # efficient matrix operation CSC + CSC\n",
    "\n",
    "        self.central_port = w1.central_port\n",
    "        self.reset_pos()\n",
    "        self.draw(\"o\")\n",
    "        \n",
    "        self.wire_intersections = []\n",
    "        self.compute_intersection()\n",
    "\n",
    "    def compute_intersection(self):\n",
    "        rows, cols = self.panel.nonzero()\n",
    "        nonzeros = zip(rows, cols)\n",
    "        skipchars = [0, ord('+'), ord('-'), ord('|'), ord('o')]\n",
    "        for (x, y) in nonzeros:\n",
    "            c = self.panel[x, y]\n",
    "            if c not in skipchars:\n",
    "                self.panel[x, y] = ord('X')\n",
    "                intersection = (x - self.central_port[0], self.central_port[1] - y)\n",
    "                if intersection not in self.wire_intersections:\n",
    "                    self.wire_intersections.append(intersection)\n",
    "\n",
    "    def closest_wire_cross(self):\n",
    "        closest = None\n",
    "        for intersection in self.wire_intersections:\n",
    "            mdist = manhattan(intersection)\n",
    "            if closest:\n",
    "                if mdist < manhattan(closest):\n",
    "                    closest = intersection\n",
    "            else:\n",
    "                closest = intersection\n",
    "        return closest\n",
    "\n",
    "    def closest_distance(self):\n",
    "        closest = self.closest_wire_cross()\n",
    "        return manhattan(closest)\n",
    "    \n",
    "    def shortest_walking_length(self):\n",
    "        shortest = None\n",
    "        shortest_length = None\n",
    "        for intersection in self.wire_intersections:\n",
    "            length1 = self.w1.walk(upto=intersection)\n",
    "            length2 = self.w2.walk(upto=intersection)\n",
    "            length = length1 + length2\n",
    "            if shortest:\n",
    "                if length < shortest_length:\n",
    "                    shortest = intersection\n",
    "                    shortest_length = length\n",
    "            else:\n",
    "                shortest = intersection\n",
    "                shortest_length = length\n",
    "\n",
    "        return shortest_length"
   ]
  },
  {
   "cell_type": "code",
   "execution_count": 12,
   "metadata": {},
   "outputs": [],
   "source": [
    "p = Panel(w1, w2)"
   ]
  },
  {
   "cell_type": "code",
   "execution_count": 13,
   "metadata": {},
   "outputs": [
    {
     "data": {
      "text/plain": [
       "...........\n",
       ".+-----+...\n",
       ".|.....|...\n",
       ".|..+--X-+.\n",
       ".|..|..|.|.\n",
       ".|.-X--+.|.\n",
       ".|..|....|.\n",
       ".|.......|.\n",
       ".o-------+.\n",
       "..........."
      ]
     },
     "execution_count": 13,
     "metadata": {},
     "output_type": "execute_result"
    }
   ],
   "source": [
    "p"
   ]
  },
  {
   "cell_type": "code",
   "execution_count": 14,
   "metadata": {},
   "outputs": [
    {
     "data": {
      "text/plain": [
       "[(3, 3), (6, 5)]"
      ]
     },
     "execution_count": 14,
     "metadata": {},
     "output_type": "execute_result"
    }
   ],
   "source": [
    "p.wire_intersections"
   ]
  },
  {
   "cell_type": "code",
   "execution_count": 15,
   "metadata": {},
   "outputs": [
    {
     "data": {
      "text/plain": [
       "(3, 3)"
      ]
     },
     "execution_count": 15,
     "metadata": {},
     "output_type": "execute_result"
    }
   ],
   "source": [
    "p.closest_wire_cross()"
   ]
  },
  {
   "cell_type": "code",
   "execution_count": 16,
   "metadata": {},
   "outputs": [
    {
     "data": {
      "text/plain": [
       "6"
      ]
     },
     "execution_count": 16,
     "metadata": {},
     "output_type": "execute_result"
    }
   ],
   "source": [
    "p.closest_distance()"
   ]
  },
  {
   "cell_type": "code",
   "execution_count": 17,
   "metadata": {},
   "outputs": [
    {
     "data": {
      "text/plain": [
       "20"
      ]
     },
     "execution_count": 17,
     "metadata": {},
     "output_type": "execute_result"
    }
   ],
   "source": [
    "w1.walk(upto=(3, 3))"
   ]
  },
  {
   "cell_type": "code",
   "execution_count": 18,
   "metadata": {},
   "outputs": [
    {
     "data": {
      "text/plain": [
       "20"
      ]
     },
     "execution_count": 18,
     "metadata": {},
     "output_type": "execute_result"
    }
   ],
   "source": [
    "w2.walk(upto=(3, 3))"
   ]
  },
  {
   "cell_type": "code",
   "execution_count": 19,
   "metadata": {},
   "outputs": [
    {
     "data": {
      "text/plain": [
       "15"
      ]
     },
     "execution_count": 19,
     "metadata": {},
     "output_type": "execute_result"
    }
   ],
   "source": [
    "w1.walk(upto=(6, 5))"
   ]
  },
  {
   "cell_type": "code",
   "execution_count": 20,
   "metadata": {},
   "outputs": [
    {
     "data": {
      "text/plain": [
       "15"
      ]
     },
     "execution_count": 20,
     "metadata": {},
     "output_type": "execute_result"
    }
   ],
   "source": [
    "w2.walk(upto=(6, 5))"
   ]
  },
  {
   "cell_type": "code",
   "execution_count": 21,
   "metadata": {},
   "outputs": [
    {
     "data": {
      "text/plain": [
       "30"
      ]
     },
     "execution_count": 21,
     "metadata": {},
     "output_type": "execute_result"
    }
   ],
   "source": [
    "p.shortest_walking_length()"
   ]
  },
  {
   "cell_type": "code",
   "execution_count": 22,
   "metadata": {},
   "outputs": [],
   "source": [
    "w1 = Wire([\"R75\",\"D30\",\"R83\",\"U83\",\"L12\",\"D49\",\"R71\",\"U7\",\"L72\"])"
   ]
  },
  {
   "cell_type": "code",
   "execution_count": 23,
   "metadata": {},
   "outputs": [],
   "source": [
    "w2 = Wire([\"U62\",\"R66\",\"U55\",\"R34\",\"D71\",\"R55\",\"D58\",\"R83\"])"
   ]
  },
  {
   "cell_type": "code",
   "execution_count": 24,
   "metadata": {},
   "outputs": [],
   "source": [
    "p = Panel(w1, w2)"
   ]
  },
  {
   "cell_type": "code",
   "execution_count": 25,
   "metadata": {},
   "outputs": [
    {
     "data": {
      "text/plain": [
       "[(146, 46), (155, 11), (155, 4), (158, -12)]"
      ]
     },
     "execution_count": 25,
     "metadata": {},
     "output_type": "execute_result"
    }
   ],
   "source": [
    "p.wire_intersections"
   ]
  },
  {
   "cell_type": "code",
   "execution_count": 26,
   "metadata": {},
   "outputs": [
    {
     "data": {
      "text/plain": [
       "159"
      ]
     },
     "execution_count": 26,
     "metadata": {},
     "output_type": "execute_result"
    }
   ],
   "source": [
    "p.closest_distance()"
   ]
  },
  {
   "cell_type": "code",
   "execution_count": 27,
   "metadata": {},
   "outputs": [
    {
     "data": {
      "text/plain": [
       "610"
      ]
     },
     "execution_count": 27,
     "metadata": {},
     "output_type": "execute_result"
    }
   ],
   "source": [
    "p.shortest_walking_length()"
   ]
  },
  {
   "cell_type": "code",
   "execution_count": 28,
   "metadata": {},
   "outputs": [],
   "source": [
    "w1 = Wire([\"R98\",\"U47\",\"R26\",\"D63\",\"R33\",\"U87\",\"L62\",\"D20\",\"R33\",\"U53\",\"R51\"])"
   ]
  },
  {
   "cell_type": "code",
   "execution_count": 29,
   "metadata": {},
   "outputs": [],
   "source": [
    "w2 = Wire([\"U98\",\"R91\",\"D20\",\"R16\",\"D67\",\"R40\",\"U7\",\"R15\",\"U6\",\"R7\"])"
   ]
  },
  {
   "cell_type": "code",
   "execution_count": 30,
   "metadata": {},
   "outputs": [],
   "source": [
    "p = Panel(w1, w2)"
   ]
  },
  {
   "cell_type": "code",
   "execution_count": 31,
   "metadata": {},
   "outputs": [
    {
     "data": {
      "text/plain": [
       "135"
      ]
     },
     "execution_count": 31,
     "metadata": {},
     "output_type": "execute_result"
    }
   ],
   "source": [
    "p.closest_distance()"
   ]
  },
  {
   "cell_type": "code",
   "execution_count": 32,
   "metadata": {},
   "outputs": [
    {
     "data": {
      "text/plain": [
       "410"
      ]
     },
     "execution_count": 32,
     "metadata": {},
     "output_type": "execute_result"
    }
   ],
   "source": [
    "p.shortest_walking_length()"
   ]
  },
  {
   "cell_type": "code",
   "execution_count": 33,
   "metadata": {},
   "outputs": [],
   "source": [
    "wire1, wire2 = load_input()"
   ]
  },
  {
   "cell_type": "code",
   "execution_count": 34,
   "metadata": {},
   "outputs": [],
   "source": [
    "w1 = Wire(wire1)"
   ]
  },
  {
   "cell_type": "code",
   "execution_count": 35,
   "metadata": {},
   "outputs": [],
   "source": [
    "w2 = Wire(wire2)"
   ]
  },
  {
   "cell_type": "code",
   "execution_count": 36,
   "metadata": {},
   "outputs": [],
   "source": [
    "p = Panel(w1, w2)"
   ]
  },
  {
   "cell_type": "code",
   "execution_count": 37,
   "metadata": {},
   "outputs": [
    {
     "data": {
      "text/plain": [
       "1337"
      ]
     },
     "execution_count": 37,
     "metadata": {},
     "output_type": "execute_result"
    }
   ],
   "source": [
    "p.closest_distance()"
   ]
  },
  {
   "cell_type": "code",
   "execution_count": 38,
   "metadata": {},
   "outputs": [
    {
     "data": {
      "text/plain": [
       "65356"
      ]
     },
     "execution_count": 38,
     "metadata": {},
     "output_type": "execute_result"
    }
   ],
   "source": [
    "p.shortest_walking_length()"
   ]
  }
 ],
 "metadata": {
  "kernelspec": {
   "display_name": "Python 3",
   "language": "python",
   "name": "python3"
  },
  "language_info": {
   "codemirror_mode": {
    "name": "ipython",
    "version": 3
   },
   "file_extension": ".py",
   "mimetype": "text/x-python",
   "name": "python",
   "nbconvert_exporter": "python",
   "pygments_lexer": "ipython3",
   "version": "3.7.4"
  }
 },
 "nbformat": 4,
 "nbformat_minor": 2
}
