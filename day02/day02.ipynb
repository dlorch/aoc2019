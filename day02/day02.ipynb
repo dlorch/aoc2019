{
 "cells": [
  {
   "cell_type": "code",
   "execution_count": 1,
   "metadata": {},
   "outputs": [],
   "source": [
    "import pandas as pd"
   ]
  },
  {
   "cell_type": "code",
   "execution_count": 2,
   "metadata": {},
   "outputs": [],
   "source": [
    "import string"
   ]
  },
  {
   "cell_type": "code",
   "execution_count": 3,
   "metadata": {},
   "outputs": [],
   "source": [
    "def interpret(input, pos):\n",
    "    if input[pos] == 1: # add\n",
    "        pos1 = input[pos+1]\n",
    "        pos2 = input[pos+2]\n",
    "        pos3 = input[pos+3]\n",
    "        input[pos3] = input[pos1] + input[pos2]\n",
    "        return interpret(input, pos + 4)\n",
    "    elif input[pos] == 2: # multiply\n",
    "        pos1 = input[pos+1]\n",
    "        pos2 = input[pos+2]\n",
    "        pos3 = input[pos+3]\n",
    "        input[pos3] = input[pos1] * input[pos2]\n",
    "        return interpret(input, pos + 4)\n",
    "    elif input[pos] == 99: # end\n",
    "        return input"
   ]
  },
  {
   "cell_type": "code",
   "execution_count": 4,
   "metadata": {},
   "outputs": [
    {
     "data": {
      "text/plain": [
       "[2, 0, 0, 0, 99]"
      ]
     },
     "execution_count": 4,
     "metadata": {},
     "output_type": "execute_result"
    }
   ],
   "source": [
    "interpret([1,0,0,0,99], 0)"
   ]
  },
  {
   "cell_type": "code",
   "execution_count": 5,
   "metadata": {},
   "outputs": [
    {
     "data": {
      "text/plain": [
       "[2, 3, 0, 6, 99]"
      ]
     },
     "execution_count": 5,
     "metadata": {},
     "output_type": "execute_result"
    }
   ],
   "source": [
    "interpret([2,3,0,3,99], 0)"
   ]
  },
  {
   "cell_type": "code",
   "execution_count": 6,
   "metadata": {},
   "outputs": [
    {
     "data": {
      "text/plain": [
       "[2, 4, 4, 5, 99, 9801]"
      ]
     },
     "execution_count": 6,
     "metadata": {},
     "output_type": "execute_result"
    }
   ],
   "source": [
    "interpret([2,4,4,5,99,0], 0)"
   ]
  },
  {
   "cell_type": "code",
   "execution_count": 7,
   "metadata": {},
   "outputs": [
    {
     "data": {
      "text/plain": [
       "[30, 1, 1, 4, 2, 5, 6, 0, 99]"
      ]
     },
     "execution_count": 7,
     "metadata": {},
     "output_type": "execute_result"
    }
   ],
   "source": [
    "interpret([1,1,1,4,99,5,6,0,99], 0)"
   ]
  },
  {
   "cell_type": "code",
   "execution_count": 8,
   "metadata": {},
   "outputs": [],
   "source": [
    "def load_input():\n",
    "    with open(\"input\") as infile:\n",
    "        data = infile.read()\n",
    "        data = data.rstrip()\n",
    "        input = data.split(\",\")\n",
    "    input = list(map(int, input))\n",
    "    return input"
   ]
  },
  {
   "cell_type": "code",
   "execution_count": 9,
   "metadata": {},
   "outputs": [],
   "source": [
    "input = load_input()"
   ]
  },
  {
   "cell_type": "code",
   "execution_count": 10,
   "metadata": {},
   "outputs": [
    {
     "data": {
      "text/plain": [
       "[1,\n",
       " 0,\n",
       " 0,\n",
       " 3,\n",
       " 1,\n",
       " 1,\n",
       " 2,\n",
       " 3,\n",
       " 1,\n",
       " 3,\n",
       " 4,\n",
       " 3,\n",
       " 1,\n",
       " 5,\n",
       " 0,\n",
       " 3,\n",
       " 2,\n",
       " 6,\n",
       " 1,\n",
       " 19,\n",
       " 1,\n",
       " 19,\n",
       " 10,\n",
       " 23,\n",
       " 2,\n",
       " 13,\n",
       " 23,\n",
       " 27,\n",
       " 1,\n",
       " 5,\n",
       " 27,\n",
       " 31,\n",
       " 2,\n",
       " 6,\n",
       " 31,\n",
       " 35,\n",
       " 1,\n",
       " 6,\n",
       " 35,\n",
       " 39,\n",
       " 2,\n",
       " 39,\n",
       " 9,\n",
       " 43,\n",
       " 1,\n",
       " 5,\n",
       " 43,\n",
       " 47,\n",
       " 1,\n",
       " 13,\n",
       " 47,\n",
       " 51,\n",
       " 1,\n",
       " 10,\n",
       " 51,\n",
       " 55,\n",
       " 2,\n",
       " 55,\n",
       " 10,\n",
       " 59,\n",
       " 2,\n",
       " 10,\n",
       " 59,\n",
       " 63,\n",
       " 1,\n",
       " 9,\n",
       " 63,\n",
       " 67,\n",
       " 2,\n",
       " 67,\n",
       " 13,\n",
       " 71,\n",
       " 1,\n",
       " 71,\n",
       " 6,\n",
       " 75,\n",
       " 2,\n",
       " 6,\n",
       " 75,\n",
       " 79,\n",
       " 1,\n",
       " 5,\n",
       " 79,\n",
       " 83,\n",
       " 2,\n",
       " 83,\n",
       " 9,\n",
       " 87,\n",
       " 1,\n",
       " 6,\n",
       " 87,\n",
       " 91,\n",
       " 2,\n",
       " 91,\n",
       " 6,\n",
       " 95,\n",
       " 1,\n",
       " 95,\n",
       " 6,\n",
       " 99,\n",
       " 2,\n",
       " 99,\n",
       " 13,\n",
       " 103,\n",
       " 1,\n",
       " 6,\n",
       " 103,\n",
       " 107,\n",
       " 1,\n",
       " 2,\n",
       " 107,\n",
       " 111,\n",
       " 1,\n",
       " 111,\n",
       " 9,\n",
       " 0,\n",
       " 99,\n",
       " 2,\n",
       " 14,\n",
       " 0,\n",
       " 0]"
      ]
     },
     "execution_count": 10,
     "metadata": {},
     "output_type": "execute_result"
    }
   ],
   "source": [
    "input"
   ]
  },
  {
   "cell_type": "code",
   "execution_count": 11,
   "metadata": {},
   "outputs": [],
   "source": [
    "input[1] = 12"
   ]
  },
  {
   "cell_type": "code",
   "execution_count": 12,
   "metadata": {},
   "outputs": [],
   "source": [
    "input[2] = 2"
   ]
  },
  {
   "cell_type": "code",
   "execution_count": 13,
   "metadata": {},
   "outputs": [
    {
     "data": {
      "text/plain": [
       "[4138687,\n",
       " 12,\n",
       " 2,\n",
       " 2,\n",
       " 1,\n",
       " 1,\n",
       " 2,\n",
       " 3,\n",
       " 1,\n",
       " 3,\n",
       " 4,\n",
       " 3,\n",
       " 1,\n",
       " 5,\n",
       " 0,\n",
       " 3,\n",
       " 2,\n",
       " 6,\n",
       " 1,\n",
       " 24,\n",
       " 1,\n",
       " 19,\n",
       " 10,\n",
       " 28,\n",
       " 2,\n",
       " 13,\n",
       " 23,\n",
       " 140,\n",
       " 1,\n",
       " 5,\n",
       " 27,\n",
       " 141,\n",
       " 2,\n",
       " 6,\n",
       " 31,\n",
       " 282,\n",
       " 1,\n",
       " 6,\n",
       " 35,\n",
       " 284,\n",
       " 2,\n",
       " 39,\n",
       " 9,\n",
       " 852,\n",
       " 1,\n",
       " 5,\n",
       " 43,\n",
       " 853,\n",
       " 1,\n",
       " 13,\n",
       " 47,\n",
       " 858,\n",
       " 1,\n",
       " 10,\n",
       " 51,\n",
       " 862,\n",
       " 2,\n",
       " 55,\n",
       " 10,\n",
       " 3448,\n",
       " 2,\n",
       " 10,\n",
       " 59,\n",
       " 13792,\n",
       " 1,\n",
       " 9,\n",
       " 63,\n",
       " 13795,\n",
       " 2,\n",
       " 67,\n",
       " 13,\n",
       " 68975,\n",
       " 1,\n",
       " 71,\n",
       " 6,\n",
       " 68977,\n",
       " 2,\n",
       " 6,\n",
       " 75,\n",
       " 137954,\n",
       " 1,\n",
       " 5,\n",
       " 79,\n",
       " 137955,\n",
       " 2,\n",
       " 83,\n",
       " 9,\n",
       " 413865,\n",
       " 1,\n",
       " 6,\n",
       " 87,\n",
       " 413867,\n",
       " 2,\n",
       " 91,\n",
       " 6,\n",
       " 827734,\n",
       " 1,\n",
       " 95,\n",
       " 6,\n",
       " 827736,\n",
       " 2,\n",
       " 99,\n",
       " 13,\n",
       " 4138680,\n",
       " 1,\n",
       " 6,\n",
       " 103,\n",
       " 4138682,\n",
       " 1,\n",
       " 2,\n",
       " 107,\n",
       " 4138684,\n",
       " 1,\n",
       " 111,\n",
       " 9,\n",
       " 0,\n",
       " 99,\n",
       " 2,\n",
       " 14,\n",
       " 0,\n",
       " 0]"
      ]
     },
     "execution_count": 13,
     "metadata": {},
     "output_type": "execute_result"
    }
   ],
   "source": [
    "interpret(input, 0)"
   ]
  },
  {
   "cell_type": "code",
   "execution_count": 14,
   "metadata": {},
   "outputs": [
    {
     "data": {
      "text/plain": [
       "4138687"
      ]
     },
     "execution_count": 14,
     "metadata": {},
     "output_type": "execute_result"
    }
   ],
   "source": [
    "input[0]"
   ]
  },
  {
   "cell_type": "code",
   "execution_count": 15,
   "metadata": {},
   "outputs": [
    {
     "name": "stdout",
     "output_type": "stream",
     "text": [
      "Result noun=66, verb=35, answer=6635\n"
     ]
    }
   ],
   "source": [
    "for noun in range(100):\n",
    "    for verb in range(100):\n",
    "        input = load_input()\n",
    "        input[1] = noun\n",
    "        input[2] = verb\n",
    "        result = interpret(input, 0)\n",
    "        if result[0] == 19690720:\n",
    "            print(\"Result noun=%d, verb=%d, answer=%d\" % (noun, verb, 100*noun + verb))"
   ]
  }
 ],
 "metadata": {
  "kernelspec": {
   "display_name": "Python 3",
   "language": "python",
   "name": "python3"
  },
  "language_info": {
   "codemirror_mode": {
    "name": "ipython",
    "version": 3
   },
   "file_extension": ".py",
   "mimetype": "text/x-python",
   "name": "python",
   "nbconvert_exporter": "python",
   "pygments_lexer": "ipython3",
   "version": "3.7.4"
  }
 },
 "nbformat": 4,
 "nbformat_minor": 2
}
