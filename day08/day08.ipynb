{
 "cells": [
  {
   "cell_type": "code",
   "execution_count": 1,
   "metadata": {},
   "outputs": [],
   "source": [
    "imageData = \"123456789012\""
   ]
  },
  {
   "cell_type": "code",
   "execution_count": 2,
   "metadata": {},
   "outputs": [],
   "source": [
    "width = 3"
   ]
  },
  {
   "cell_type": "code",
   "execution_count": 3,
   "metadata": {},
   "outputs": [],
   "source": [
    "height = 2"
   ]
  },
  {
   "cell_type": "code",
   "execution_count": 19,
   "metadata": {},
   "outputs": [],
   "source": [
    "numLayers = int(len(imageData) / (width*height))"
   ]
  },
  {
   "cell_type": "code",
   "execution_count": 23,
   "metadata": {},
   "outputs": [
    {
     "data": {
      "text/plain": [
       "2"
      ]
     },
     "execution_count": 23,
     "metadata": {},
     "output_type": "execute_result"
    }
   ],
   "source": [
    "numLayers"
   ]
  },
  {
   "cell_type": "code",
   "execution_count": 27,
   "metadata": {},
   "outputs": [],
   "source": [
    "layerSize = width*height"
   ]
  },
  {
   "cell_type": "code",
   "execution_count": 28,
   "metadata": {},
   "outputs": [
    {
     "data": {
      "text/plain": [
       "6"
      ]
     },
     "execution_count": 28,
     "metadata": {},
     "output_type": "execute_result"
    }
   ],
   "source": [
    "layerSize"
   ]
  },
  {
   "cell_type": "code",
   "execution_count": 37,
   "metadata": {},
   "outputs": [],
   "source": [
    "imageLayers = [imageData[i:i+layerSize] for i in range(0, len(imageData), layerSize)]"
   ]
  },
  {
   "cell_type": "code",
   "execution_count": 38,
   "metadata": {},
   "outputs": [
    {
     "data": {
      "text/plain": [
       "['123456', '789012']"
      ]
     },
     "execution_count": 38,
     "metadata": {},
     "output_type": "execute_result"
    }
   ],
   "source": [
    "imageLayers"
   ]
  },
  {
   "cell_type": "code",
   "execution_count": 39,
   "metadata": {},
   "outputs": [],
   "source": [
    "def loadInput(width, height):\n",
    "    with open(\"input\") as infile:\n",
    "        imageData = infile.read()\n",
    "    imageData = imageData.rstrip()\n",
    "\n",
    "    numLayers = int(len(imageData) / (width*height))\n",
    "    layerSize = width*height\n",
    "\n",
    "    imageLayers = [imageData[i:i+layerSize] for i in range(0, len(imageData), layerSize)]\n",
    "    assert(len(imageLayers) == numLayers)\n",
    "\n",
    "    return imageLayers"
   ]
  },
  {
   "cell_type": "code",
   "execution_count": 96,
   "metadata": {},
   "outputs": [],
   "source": [
    "imageLayers = loadInput(25, 6)"
   ]
  },
  {
   "cell_type": "code",
   "execution_count": 97,
   "metadata": {},
   "outputs": [
    {
     "data": {
      "text/plain": [
       "100"
      ]
     },
     "execution_count": 97,
     "metadata": {},
     "output_type": "execute_result"
    }
   ],
   "source": [
    "len(imageLayers)"
   ]
  },
  {
   "cell_type": "code",
   "execution_count": 46,
   "metadata": {},
   "outputs": [
    {
     "data": {
      "text/plain": [
       "14"
      ]
     },
     "execution_count": 46,
     "metadata": {},
     "output_type": "execute_result"
    }
   ],
   "source": [
    "imageLayers[0].count('0')"
   ]
  },
  {
   "cell_type": "code",
   "execution_count": 51,
   "metadata": {},
   "outputs": [],
   "source": [
    "def findLayerFewestZero(imageLayers):\n",
    "    lowestZeros = None \n",
    "    lowestLayer = None\n",
    "    for layer in imageLayers:\n",
    "        zeros = layer.count('0')\n",
    "        if lowestZeros:\n",
    "            if zeros < lowestZeros:\n",
    "                lowestZeros = zeros\n",
    "                lowestLayer = layer\n",
    "        else:\n",
    "            lowestZeros = zeros\n",
    "            lowestLayer = layer\n",
    "    return lowestZeros, lowestLayer"
   ]
  },
  {
   "cell_type": "code",
   "execution_count": 52,
   "metadata": {},
   "outputs": [],
   "source": [
    "zeros, layer = findLayerFewestZero(imageLayers)"
   ]
  },
  {
   "cell_type": "code",
   "execution_count": 53,
   "metadata": {},
   "outputs": [
    {
     "data": {
      "text/plain": [
       "(3,\n",
       " '222222212222212221222222222122222222122222222222212222222222122222222222222222212122022221222221222022222112112222222202222222222222212222222221222222')"
      ]
     },
     "execution_count": 53,
     "metadata": {},
     "output_type": "execute_result"
    }
   ],
   "source": [
    "zeros, layer"
   ]
  },
  {
   "cell_type": "code",
   "execution_count": 55,
   "metadata": {},
   "outputs": [
    {
     "data": {
      "text/plain": [
       "2210"
      ]
     },
     "execution_count": 55,
     "metadata": {},
     "output_type": "execute_result"
    }
   ],
   "source": [
    "layer.count('1') * layer.count('2')"
   ]
  },
  {
   "cell_type": "code",
   "execution_count": 160,
   "metadata": {},
   "outputs": [],
   "source": [
    "def mergeLayers(imageLayers):\n",
    "    reversedLayers = imageLayers.copy()\n",
    "    reversedLayers.reverse()\n",
    "    merged = list(reversedLayers[0])\n",
    "    for layer in reversedLayers[1:]:\n",
    "        for i, c in enumerate(layer):\n",
    "            if c == \"0\": # black\n",
    "                merged[i] = \"0\"\n",
    "            elif c == \"1\": # white\n",
    "                merged[i] = \"1\"\n",
    "            elif c == \"2\": # transparent\n",
    "                pass\n",
    "    return \"\".join(merged)"
   ]
  },
  {
   "cell_type": "code",
   "execution_count": 161,
   "metadata": {},
   "outputs": [
    {
     "data": {
      "text/plain": [
       "'0110'"
      ]
     },
     "execution_count": 161,
     "metadata": {},
     "output_type": "execute_result"
    }
   ],
   "source": [
    "mergeLayers([\"0222\", \"1122\", \"2212\", \"0000\"])"
   ]
  },
  {
   "cell_type": "code",
   "execution_count": 162,
   "metadata": {},
   "outputs": [],
   "source": [
    "image = mergeLayers(imageLayers)"
   ]
  },
  {
   "cell_type": "code",
   "execution_count": 163,
   "metadata": {},
   "outputs": [
    {
     "data": {
      "text/plain": [
       "'011000110011110011001111010010100101000010010100001000010000111001000011100100001011010000101101000010010100101000010010100000110001110111100111011110'"
      ]
     },
     "execution_count": 163,
     "metadata": {},
     "output_type": "execute_result"
    }
   ],
   "source": [
    "image"
   ]
  },
  {
   "cell_type": "code",
   "execution_count": 166,
   "metadata": {},
   "outputs": [],
   "source": [
    "def drawImage(image, width, height):\n",
    "    for i, c in enumerate(image):\n",
    "        if c == \"0\": # black\n",
    "            print(\"▓\", end=\"\")\n",
    "        elif c == \"1\": # white\n",
    "            print(\"▒\", end=\"\")\n",
    "        elif c == \"2\": # transparent\n",
    "            print(\"░\", end=\"\")\n",
    "        if i != 0 and (i+1) % width == 0:\n",
    "            print() # newline"
   ]
  },
  {
   "cell_type": "code",
   "execution_count": 167,
   "metadata": {
    "scrolled": true
   },
   "outputs": [
    {
     "name": "stdout",
     "output_type": "stream",
     "text": [
      "▓▒▒▓▓▓▒▒▓▓▒▒▒▒▓▓▒▒▓▓▒▒▒▒▓\n",
      "▒▓▓▒▓▒▓▓▒▓▒▓▓▓▓▒▓▓▒▓▒▓▓▓▓\n",
      "▒▓▓▓▓▒▓▓▓▓▒▒▒▓▓▒▓▓▓▓▒▒▒▓▓\n",
      "▒▓▓▓▓▒▓▒▒▓▒▓▓▓▓▒▓▒▒▓▒▓▓▓▓\n",
      "▒▓▓▒▓▒▓▓▒▓▒▓▓▓▓▒▓▓▒▓▒▓▓▓▓\n",
      "▓▒▒▓▓▓▒▒▒▓▒▒▒▒▓▓▒▒▒▓▒▒▒▒▓\n"
     ]
    }
   ],
   "source": [
    "drawImage(image, 25, 6)"
   ]
  }
 ],
 "metadata": {
  "kernelspec": {
   "display_name": "Python 3",
   "language": "python",
   "name": "python3"
  },
  "language_info": {
   "codemirror_mode": {
    "name": "ipython",
    "version": 3
   },
   "file_extension": ".py",
   "mimetype": "text/x-python",
   "name": "python",
   "nbconvert_exporter": "python",
   "pygments_lexer": "ipython3",
   "version": "3.7.4"
  }
 },
 "nbformat": 4,
 "nbformat_minor": 2
}
