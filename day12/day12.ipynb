{
 "cells": [
  {
   "cell_type": "code",
   "execution_count": 276,
   "metadata": {},
   "outputs": [],
   "source": [
    "class Moon:\n",
    "    def __init__(self, pos):\n",
    "        assert(len(pos) == 3)\n",
    "        self.pos = pos\n",
    "        self.vel = [0] * 3\n",
    "\n",
    "    def step(self):\n",
    "        assert(len(self.pos) == len(self.vel))\n",
    "        dims = len(self.pos)\n",
    "        for dim in range(dims):\n",
    "            self.pos[dim] += self.vel[dim]\n",
    "        return self\n",
    "    \n",
    "    def pot(self):\n",
    "        result = 0\n",
    "        dims = len(self.pos)\n",
    "        for dim in range(dims):\n",
    "            result += abs(self.pos[dim])\n",
    "        return result\n",
    "        \n",
    "    def kin(self):\n",
    "        result = 0\n",
    "        dims = len(self.vel)\n",
    "        for dim in range(dims):\n",
    "            result += abs(self.vel[dim])\n",
    "        return result\n",
    "    \n",
    "    def __repr__(self):\n",
    "        s = \"pos=<x=%d, y=%d, z=%d> vel=<x=%d, y=%d, z=%d>\" % \\\n",
    "            (self.pos[0], self.pos[1], self.pos[2], \\\n",
    "             self.vel[0], self.vel[1], self.vel[2])\n",
    "        return s"
   ]
  },
  {
   "cell_type": "code",
   "execution_count": 277,
   "metadata": {},
   "outputs": [],
   "source": [
    "m = Moon([-1, 0, 2])"
   ]
  },
  {
   "cell_type": "code",
   "execution_count": 278,
   "metadata": {},
   "outputs": [
    {
     "data": {
      "text/plain": [
       "pos=<x=-1, y=0, z=2> vel=<x=0, y=0, z=0>"
      ]
     },
     "execution_count": 278,
     "metadata": {},
     "output_type": "execute_result"
    }
   ],
   "source": [
    "m"
   ]
  },
  {
   "cell_type": "code",
   "execution_count": 279,
   "metadata": {},
   "outputs": [
    {
     "data": {
      "text/plain": [
       "3"
      ]
     },
     "execution_count": 279,
     "metadata": {},
     "output_type": "execute_result"
    }
   ],
   "source": [
    "m.pot()"
   ]
  },
  {
   "cell_type": "code",
   "execution_count": 280,
   "metadata": {},
   "outputs": [
    {
     "data": {
      "text/plain": [
       "0"
      ]
     },
     "execution_count": 280,
     "metadata": {},
     "output_type": "execute_result"
    }
   ],
   "source": [
    "m.kin()"
   ]
  },
  {
   "cell_type": "code",
   "execution_count": 260,
   "metadata": {},
   "outputs": [],
   "source": [
    "# all pairs = lower triangle, without diagonal\n",
    "#\n",
    "#    0 1 2 3 4 [v]\n",
    "#  0\n",
    "#  1 *\n",
    "#  2 * *\n",
    "#  3 * * *\n",
    "#  4 * * * *\n",
    "# [w]\n",
    "#\n",
    "def allPairs(values):\n",
    "    result = []\n",
    "    for i, v in enumerate(values):\n",
    "        for j, w in enumerate(values):\n",
    "            if v != w and j > i:\n",
    "                result.append((v, w))\n",
    "    return result"
   ]
  },
  {
   "cell_type": "code",
   "execution_count": 261,
   "metadata": {},
   "outputs": [
    {
     "data": {
      "text/plain": [
       "[(0, 1),\n",
       " (0, 2),\n",
       " (0, 3),\n",
       " (0, 4),\n",
       " (1, 2),\n",
       " (1, 3),\n",
       " (1, 4),\n",
       " (2, 3),\n",
       " (2, 4),\n",
       " (3, 4)]"
      ]
     },
     "execution_count": 261,
     "metadata": {},
     "output_type": "execute_result"
    }
   ],
   "source": [
    "allPairs([0, 1, 2, 3, 4])"
   ]
  },
  {
   "cell_type": "code",
   "execution_count": 377,
   "metadata": {},
   "outputs": [],
   "source": [
    "class Jupiter:\n",
    "    def __init__(self):\n",
    "        self.moons = []\n",
    "        self.steps = 0\n",
    "    \n",
    "    def addMoon(self, moon):\n",
    "        self.moons.append(moon)\n",
    "\n",
    "    def step(self):\n",
    "        self.steps += 1\n",
    "        \n",
    "        for pair in allPairs(self.moons):\n",
    "            a, b = pair\n",
    "            assert(len(a.pos) == len(b.pos))\n",
    "            dims = len(a.pos)\n",
    "            for dim in range(dims):\n",
    "                if a.pos[dim] > b.pos[dim]:\n",
    "                    a.vel[dim] -= 1\n",
    "                    b.vel[dim] += 1\n",
    "                elif a.pos[dim] < b.pos[dim]:\n",
    "                    a.vel[dim] +=1\n",
    "                    b.vel[dim] -= 1\n",
    "        \n",
    "        for moon in self.moons:\n",
    "            moon.step()\n",
    "        \n",
    "        return self\n",
    "    \n",
    "    def energy(self):\n",
    "        result = 0\n",
    "        \n",
    "        for moon in self.moons:\n",
    "            result += moon.pot() * moon.kin()\n",
    "        \n",
    "        return result\n",
    "    \n",
    "    def __repr__(self):\n",
    "        if self.steps == 1:\n",
    "            s = \"After %d step:\\n\" % self.steps\n",
    "        else:\n",
    "            s = \"After %d steps:\\n\" % self.steps\n",
    "\n",
    "        for moon in self.moons:\n",
    "            s += str(moon) + \"\\n\"\n",
    "\n",
    "        return s\n",
    "    \n",
    "    def __eq__(self, other):\n",
    "        if len(self.moons) != len(other.moons):\n",
    "            return False\n",
    "        \n",
    "        for a, b in zip(self.moons, other.moons):\n",
    "            if a.pos != b.pos and a.vel != b.vel:\n",
    "                return False\n",
    "        \n",
    "        return True"
   ]
  },
  {
   "cell_type": "code",
   "execution_count": 291,
   "metadata": {},
   "outputs": [],
   "source": [
    "jup = Jupiter()"
   ]
  },
  {
   "cell_type": "code",
   "execution_count": 292,
   "metadata": {},
   "outputs": [],
   "source": [
    "jup.addMoon(Moon([-1, 0, 2]))"
   ]
  },
  {
   "cell_type": "code",
   "execution_count": 293,
   "metadata": {},
   "outputs": [],
   "source": [
    "jup.addMoon(Moon([2, -10, -7]))"
   ]
  },
  {
   "cell_type": "code",
   "execution_count": 294,
   "metadata": {},
   "outputs": [],
   "source": [
    "jup.addMoon(Moon([4, -8, 8]))"
   ]
  },
  {
   "cell_type": "code",
   "execution_count": 295,
   "metadata": {},
   "outputs": [],
   "source": [
    "jup.addMoon(Moon([3, 5, -1]))"
   ]
  },
  {
   "cell_type": "code",
   "execution_count": 296,
   "metadata": {},
   "outputs": [
    {
     "data": {
      "text/plain": [
       "After 0 steps:\n",
       "pos=<x=-1, y=0, z=2> vel=<x=0, y=0, z=0>\n",
       "pos=<x=2, y=-10, z=-7> vel=<x=0, y=0, z=0>\n",
       "pos=<x=4, y=-8, z=8> vel=<x=0, y=0, z=0>\n",
       "pos=<x=3, y=5, z=-1> vel=<x=0, y=0, z=0>"
      ]
     },
     "execution_count": 296,
     "metadata": {},
     "output_type": "execute_result"
    }
   ],
   "source": [
    "jup"
   ]
  },
  {
   "cell_type": "code",
   "execution_count": 297,
   "metadata": {},
   "outputs": [
    {
     "name": "stdout",
     "output_type": "stream",
     "text": [
      "After 1 step:\n",
      "pos=<x=2, y=-1, z=1> vel=<x=3, y=-1, z=-1>\n",
      "pos=<x=3, y=-7, z=-4> vel=<x=1, y=3, z=3>\n",
      "pos=<x=1, y=-7, z=5> vel=<x=-3, y=1, z=-3>\n",
      "pos=<x=2, y=2, z=0> vel=<x=-1, y=-3, z=1>\n",
      "\n",
      "After 2 steps:\n",
      "pos=<x=5, y=-3, z=-1> vel=<x=3, y=-2, z=-2>\n",
      "pos=<x=1, y=-2, z=2> vel=<x=-2, y=5, z=6>\n",
      "pos=<x=1, y=-4, z=-1> vel=<x=0, y=3, z=-6>\n",
      "pos=<x=1, y=-4, z=2> vel=<x=-1, y=-6, z=2>\n",
      "\n",
      "After 3 steps:\n",
      "pos=<x=5, y=-6, z=-1> vel=<x=0, y=-3, z=0>\n",
      "pos=<x=0, y=0, z=6> vel=<x=-1, y=2, z=4>\n",
      "pos=<x=2, y=1, z=-5> vel=<x=1, y=5, z=-4>\n",
      "pos=<x=1, y=-8, z=2> vel=<x=0, y=-4, z=0>\n",
      "\n",
      "After 4 steps:\n",
      "pos=<x=2, y=-8, z=0> vel=<x=-3, y=-2, z=1>\n",
      "pos=<x=2, y=1, z=7> vel=<x=2, y=1, z=1>\n",
      "pos=<x=2, y=3, z=-6> vel=<x=0, y=2, z=-1>\n",
      "pos=<x=2, y=-9, z=1> vel=<x=1, y=-1, z=-1>\n",
      "\n",
      "After 5 steps:\n",
      "pos=<x=-1, y=-9, z=2> vel=<x=-3, y=-1, z=2>\n",
      "pos=<x=4, y=1, z=5> vel=<x=2, y=0, z=-2>\n",
      "pos=<x=2, y=2, z=-4> vel=<x=0, y=-1, z=2>\n",
      "pos=<x=3, y=-7, z=-1> vel=<x=1, y=2, z=-2>\n",
      "\n",
      "After 6 steps:\n",
      "pos=<x=-1, y=-7, z=3> vel=<x=0, y=2, z=1>\n",
      "pos=<x=3, y=0, z=0> vel=<x=-1, y=-1, z=-5>\n",
      "pos=<x=3, y=-2, z=1> vel=<x=1, y=-4, z=5>\n",
      "pos=<x=3, y=-4, z=-2> vel=<x=0, y=3, z=-1>\n",
      "\n",
      "After 7 steps:\n",
      "pos=<x=2, y=-2, z=1> vel=<x=3, y=5, z=-2>\n",
      "pos=<x=1, y=-4, z=-4> vel=<x=-2, y=-4, z=-4>\n",
      "pos=<x=3, y=-7, z=5> vel=<x=0, y=-5, z=4>\n",
      "pos=<x=2, y=0, z=0> vel=<x=-1, y=4, z=2>\n",
      "\n",
      "After 8 steps:\n",
      "pos=<x=5, y=2, z=-2> vel=<x=3, y=4, z=-3>\n",
      "pos=<x=2, y=-7, z=-5> vel=<x=1, y=-3, z=-1>\n",
      "pos=<x=0, y=-9, z=6> vel=<x=-3, y=-2, z=1>\n",
      "pos=<x=1, y=1, z=3> vel=<x=-1, y=1, z=3>\n",
      "\n",
      "After 9 steps:\n",
      "pos=<x=5, y=3, z=-4> vel=<x=0, y=1, z=-2>\n",
      "pos=<x=2, y=-9, z=-3> vel=<x=0, y=-2, z=2>\n",
      "pos=<x=0, y=-8, z=4> vel=<x=0, y=1, z=-2>\n",
      "pos=<x=1, y=1, z=5> vel=<x=0, y=0, z=2>\n",
      "\n",
      "After 10 steps:\n",
      "pos=<x=2, y=1, z=-3> vel=<x=-3, y=-2, z=1>\n",
      "pos=<x=1, y=-8, z=0> vel=<x=-1, y=1, z=3>\n",
      "pos=<x=3, y=-6, z=1> vel=<x=3, y=2, z=-3>\n",
      "pos=<x=2, y=0, z=4> vel=<x=1, y=-1, z=-1>\n",
      "\n"
     ]
    }
   ],
   "source": [
    "for i in range(10):\n",
    "    print(jup.step())"
   ]
  },
  {
   "cell_type": "code",
   "execution_count": 298,
   "metadata": {},
   "outputs": [
    {
     "data": {
      "text/plain": [
       "179"
      ]
     },
     "execution_count": 298,
     "metadata": {},
     "output_type": "execute_result"
    }
   ],
   "source": [
    "jup.energy()"
   ]
  },
  {
   "cell_type": "code",
   "execution_count": 312,
   "metadata": {},
   "outputs": [],
   "source": [
    "jup2 = Jupiter()"
   ]
  },
  {
   "cell_type": "code",
   "execution_count": 313,
   "metadata": {},
   "outputs": [],
   "source": [
    "jup2.addMoon(Moon([-8, -10, 0]))"
   ]
  },
  {
   "cell_type": "code",
   "execution_count": 314,
   "metadata": {},
   "outputs": [],
   "source": [
    "jup2.addMoon(Moon([5, 5, 10]))"
   ]
  },
  {
   "cell_type": "code",
   "execution_count": 315,
   "metadata": {},
   "outputs": [],
   "source": [
    "jup2.addMoon(Moon([2, -7, 3]))"
   ]
  },
  {
   "cell_type": "code",
   "execution_count": 316,
   "metadata": {},
   "outputs": [],
   "source": [
    "jup2.addMoon(Moon([9, -8, -3]))"
   ]
  },
  {
   "cell_type": "code",
   "execution_count": 317,
   "metadata": {},
   "outputs": [
    {
     "name": "stdout",
     "output_type": "stream",
     "text": [
      "After 0 steps:\n",
      "pos=<x=-8, y=-10, z=0> vel=<x=0, y=0, z=0>\n",
      "pos=<x=5, y=5, z=10> vel=<x=0, y=0, z=0>\n",
      "pos=<x=2, y=-7, z=3> vel=<x=0, y=0, z=0>\n",
      "pos=<x=9, y=-8, z=-3> vel=<x=0, y=0, z=0>\n",
      "\n",
      "After 10 steps:\n",
      "pos=<x=-9, y=-10, z=1> vel=<x=-2, y=-2, z=-1>\n",
      "pos=<x=4, y=10, z=9> vel=<x=-3, y=7, z=-2>\n",
      "pos=<x=8, y=-10, z=-3> vel=<x=5, y=-1, z=-2>\n",
      "pos=<x=5, y=-10, z=3> vel=<x=0, y=-4, z=5>\n",
      "\n",
      "After 20 steps:\n",
      "pos=<x=-10, y=3, z=-4> vel=<x=-5, y=2, z=0>\n",
      "pos=<x=5, y=-25, z=6> vel=<x=1, y=1, z=-4>\n",
      "pos=<x=13, y=1, z=1> vel=<x=5, y=-2, z=2>\n",
      "pos=<x=0, y=1, z=7> vel=<x=-1, y=-1, z=2>\n",
      "\n",
      "After 30 steps:\n",
      "pos=<x=15, y=-6, z=-9> vel=<x=-5, y=4, z=0>\n",
      "pos=<x=-4, y=-11, z=3> vel=<x=-3, y=-10, z=0>\n",
      "pos=<x=0, y=-1, z=11> vel=<x=7, y=4, z=3>\n",
      "pos=<x=-3, y=-2, z=5> vel=<x=1, y=2, z=-3>\n",
      "\n",
      "After 40 steps:\n",
      "pos=<x=14, y=-12, z=-4> vel=<x=11, y=3, z=0>\n",
      "pos=<x=-1, y=18, z=8> vel=<x=-5, y=2, z=3>\n",
      "pos=<x=-5, y=-14, z=8> vel=<x=1, y=-2, z=0>\n",
      "pos=<x=0, y=-12, z=-2> vel=<x=-7, y=-3, z=-3>\n",
      "\n",
      "After 50 steps:\n",
      "pos=<x=-23, y=4, z=1> vel=<x=-7, y=-1, z=2>\n",
      "pos=<x=20, y=-31, z=13> vel=<x=5, y=3, z=4>\n",
      "pos=<x=-4, y=6, z=1> vel=<x=-1, y=1, z=-3>\n",
      "pos=<x=15, y=1, z=-5> vel=<x=3, y=-3, z=-3>\n",
      "\n",
      "After 60 steps:\n",
      "pos=<x=36, y=-10, z=6> vel=<x=5, y=0, z=3>\n",
      "pos=<x=-18, y=10, z=9> vel=<x=-3, y=-7, z=5>\n",
      "pos=<x=8, y=-12, z=-3> vel=<x=-2, y=1, z=-7>\n",
      "pos=<x=-18, y=-8, z=-2> vel=<x=0, y=6, z=-1>\n",
      "\n",
      "After 70 steps:\n",
      "pos=<x=-33, y=-6, z=5> vel=<x=-5, y=-4, z=7>\n",
      "pos=<x=13, y=-9, z=2> vel=<x=-2, y=11, z=3>\n",
      "pos=<x=11, y=-8, z=2> vel=<x=8, y=-6, z=-7>\n",
      "pos=<x=17, y=3, z=1> vel=<x=-1, y=-1, z=-3>\n",
      "\n",
      "After 80 steps:\n",
      "pos=<x=30, y=-8, z=3> vel=<x=3, y=3, z=0>\n",
      "pos=<x=-2, y=-4, z=0> vel=<x=4, y=-13, z=2>\n",
      "pos=<x=-18, y=-7, z=15> vel=<x=-8, y=2, z=-2>\n",
      "pos=<x=-2, y=-1, z=-8> vel=<x=1, y=8, z=0>\n",
      "\n",
      "After 90 steps:\n",
      "pos=<x=-25, y=-1, z=4> vel=<x=1, y=-3, z=4>\n",
      "pos=<x=2, y=-9, z=0> vel=<x=-3, y=13, z=-1>\n",
      "pos=<x=32, y=-8, z=14> vel=<x=5, y=-4, z=6>\n",
      "pos=<x=-1, y=-2, z=-8> vel=<x=-3, y=-6, z=-9>\n",
      "\n"
     ]
    }
   ],
   "source": [
    "for i in range(100):\n",
    "    if i % 10 == 0:\n",
    "        print(jup2)\n",
    "    jup2.step()"
   ]
  },
  {
   "cell_type": "code",
   "execution_count": 318,
   "metadata": {},
   "outputs": [
    {
     "data": {
      "text/plain": [
       "1940"
      ]
     },
     "execution_count": 318,
     "metadata": {},
     "output_type": "execute_result"
    }
   ],
   "source": [
    "jup2.energy()"
   ]
  },
  {
   "cell_type": "code",
   "execution_count": 326,
   "metadata": {},
   "outputs": [],
   "source": [
    "import re"
   ]
  },
  {
   "cell_type": "code",
   "execution_count": 357,
   "metadata": {},
   "outputs": [],
   "source": [
    "def loadJupiter():\n",
    "    with open(\"input\") as f:\n",
    "        inputData = f.read()\n",
    "        \n",
    "    jup = Jupiter()\n",
    "        \n",
    "    for line in inputData.splitlines():\n",
    "        m = re.match(\"<x=(-?\\d+), y=(-?\\d+), z=(-?\\d+)>\", line)\n",
    "        if m:\n",
    "            x, y, z = int(m.group(1)), int(m.group(2)), int(m.group(3))\n",
    "            jup.addMoon(Moon([x, y, z]))\n",
    "    \n",
    "    return jup"
   ]
  },
  {
   "cell_type": "code",
   "execution_count": 358,
   "metadata": {},
   "outputs": [],
   "source": [
    "jup3 = loadJupiter()"
   ]
  },
  {
   "cell_type": "code",
   "execution_count": 359,
   "metadata": {},
   "outputs": [
    {
     "data": {
      "text/plain": [
       "After 0 steps:\n",
       "pos=<x=-3, y=15, z=-11> vel=<x=0, y=0, z=0>\n",
       "pos=<x=3, y=13, z=-19> vel=<x=0, y=0, z=0>\n",
       "pos=<x=-13, y=18, z=-2> vel=<x=0, y=0, z=0>\n",
       "pos=<x=6, y=0, z=-1> vel=<x=0, y=0, z=0>"
      ]
     },
     "execution_count": 359,
     "metadata": {},
     "output_type": "execute_result"
    }
   ],
   "source": [
    "jup3"
   ]
  },
  {
   "cell_type": "code",
   "execution_count": 360,
   "metadata": {},
   "outputs": [],
   "source": [
    "for i in range(1000):\n",
    "    jup3.step()"
   ]
  },
  {
   "cell_type": "code",
   "execution_count": 361,
   "metadata": {},
   "outputs": [
    {
     "data": {
      "text/plain": [
       "12070"
      ]
     },
     "execution_count": 361,
     "metadata": {},
     "output_type": "execute_result"
    }
   ],
   "source": [
    "jup3.energy()"
   ]
  },
  {
   "cell_type": "code",
   "execution_count": 412,
   "metadata": {},
   "outputs": [],
   "source": [
    "jup = Jupiter()"
   ]
  },
  {
   "cell_type": "code",
   "execution_count": 413,
   "metadata": {},
   "outputs": [],
   "source": [
    "jup.addMoon(Moon([-1, 0, 2]))"
   ]
  },
  {
   "cell_type": "code",
   "execution_count": 414,
   "metadata": {},
   "outputs": [],
   "source": [
    "jup.addMoon(Moon([2, -10, -7]))"
   ]
  },
  {
   "cell_type": "code",
   "execution_count": 415,
   "metadata": {},
   "outputs": [],
   "source": [
    "jup.addMoon(Moon([4, -8, 8]))"
   ]
  },
  {
   "cell_type": "code",
   "execution_count": 416,
   "metadata": {},
   "outputs": [],
   "source": [
    "jup.addMoon(Moon([3, 5, -1]))"
   ]
  },
  {
   "cell_type": "code",
   "execution_count": 417,
   "metadata": {},
   "outputs": [
    {
     "data": {
      "text/plain": [
       "After 0 steps:\n",
       "pos=<x=-1, y=0, z=2> vel=<x=0, y=0, z=0>\n",
       "pos=<x=2, y=-10, z=-7> vel=<x=0, y=0, z=0>\n",
       "pos=<x=4, y=-8, z=8> vel=<x=0, y=0, z=0>\n",
       "pos=<x=3, y=5, z=-1> vel=<x=0, y=0, z=0>"
      ]
     },
     "execution_count": 417,
     "metadata": {},
     "output_type": "execute_result"
    }
   ],
   "source": [
    "jup"
   ]
  },
  {
   "cell_type": "code",
   "execution_count": 418,
   "metadata": {},
   "outputs": [],
   "source": [
    "for i in range(2772):\n",
    "    jup.step()"
   ]
  },
  {
   "cell_type": "code",
   "execution_count": 419,
   "metadata": {},
   "outputs": [
    {
     "data": {
      "text/plain": [
       "After 2772 steps:\n",
       "pos=<x=-1, y=0, z=2> vel=<x=0, y=0, z=0>\n",
       "pos=<x=2, y=-10, z=-7> vel=<x=0, y=0, z=0>\n",
       "pos=<x=4, y=-8, z=8> vel=<x=0, y=0, z=0>\n",
       "pos=<x=3, y=5, z=-1> vel=<x=0, y=0, z=0>"
      ]
     },
     "execution_count": 419,
     "metadata": {},
     "output_type": "execute_result"
    }
   ],
   "source": [
    "jup"
   ]
  },
  {
   "cell_type": "code",
   "execution_count": 431,
   "metadata": {},
   "outputs": [],
   "source": [
    "jup2 = Jupiter()"
   ]
  },
  {
   "cell_type": "code",
   "execution_count": 432,
   "metadata": {},
   "outputs": [],
   "source": [
    "jup2.addMoon(Moon([-8, -10, 0]))"
   ]
  },
  {
   "cell_type": "code",
   "execution_count": 433,
   "metadata": {},
   "outputs": [],
   "source": [
    "jup2.addMoon(Moon([5, 5, 10]))"
   ]
  },
  {
   "cell_type": "code",
   "execution_count": 434,
   "metadata": {},
   "outputs": [],
   "source": [
    "jup2.addMoon(Moon([2, -7, 3]))"
   ]
  },
  {
   "cell_type": "code",
   "execution_count": 435,
   "metadata": {},
   "outputs": [],
   "source": [
    "jup2.addMoon(Moon([9, -8, -3]))"
   ]
  },
  {
   "cell_type": "code",
   "execution_count": null,
   "metadata": {},
   "outputs": [],
   "source": []
  }
 ],
 "metadata": {
  "kernelspec": {
   "display_name": "Python 3",
   "language": "python",
   "name": "python3"
  },
  "language_info": {
   "codemirror_mode": {
    "name": "ipython",
    "version": 3
   },
   "file_extension": ".py",
   "mimetype": "text/x-python",
   "name": "python",
   "nbconvert_exporter": "python",
   "pygments_lexer": "ipython3",
   "version": "3.7.4"
  }
 },
 "nbformat": 4,
 "nbformat_minor": 2
}
