{
 "cells": [
  {
   "cell_type": "code",
   "execution_count": 1,
   "metadata": {},
   "outputs": [],
   "source": [
    "from math import floor"
   ]
  },
  {
   "cell_type": "code",
   "execution_count": 2,
   "metadata": {},
   "outputs": [],
   "source": [
    "def parse_opcode(opcode):\n",
    "    if opcode >= 100: # two-digit opcode\n",
    "        op    = opcode % 100\n",
    "        mode1 = floor(opcode % 1000 / 100)\n",
    "        mode2 = floor(opcode % 10000 / 1000)\n",
    "        mode3 = floor(opcode % 100000 / 10000)\n",
    "    else:\n",
    "        op = opcode\n",
    "        mode1, mode2, mode3 = 0, 0, 0 # position mode\n",
    "    return op, mode1, mode2, mode3"
   ]
  },
  {
   "cell_type": "code",
   "execution_count": 136,
   "metadata": {},
   "outputs": [],
   "source": [
    "def fetch_value(data, arg, mode):\n",
    "    if mode == 0: # position\n",
    "        return data[arg]\n",
    "    elif mode == 1: # immediate\n",
    "        return arg"
   ]
  },
  {
   "cell_type": "code",
   "execution_count": 147,
   "metadata": {},
   "outputs": [],
   "source": [
    "from collections import deque"
   ]
  },
  {
   "cell_type": "code",
   "execution_count": 203,
   "metadata": {},
   "outputs": [],
   "source": [
    "def interpret(data, pos=0, input_queue=None, output_queue=None):\n",
    "    opcode, mode1, mode2, mode3 = parse_opcode(data[pos])\n",
    "    if opcode == 1: # add\n",
    "        arg1 = data[pos+1]\n",
    "        arg2 = data[pos+2]\n",
    "        arg3 = data[pos+3]\n",
    "        \n",
    "        val1 = fetch_value(data, arg1, mode1)\n",
    "        val2 = fetch_value(data, arg2, mode2)\n",
    "        assert(mode3 == 0)\n",
    "        \n",
    "        data[arg3] = val1 + val2\n",
    "        return interpret(data, pos + 4, input_queue, output_queue)\n",
    "    elif opcode == 2: # multiply\n",
    "        arg1 = data[pos+1]\n",
    "        arg2 = data[pos+2]\n",
    "        arg3 = data[pos+3]\n",
    "        \n",
    "        val1 = fetch_value(data, arg1, mode1)\n",
    "        val2 = fetch_value(data, arg2, mode2)\n",
    "        assert(mode3 == 0)\n",
    "        \n",
    "        data[arg3] = val1 * val2\n",
    "        return interpret(data, pos + 4, input_queue, output_queue)\n",
    "    elif opcode == 3: # input\n",
    "        arg1 = data[pos+1]\n",
    "        assert(mode1 == 0)\n",
    "        if input_queue:\n",
    "            assert(len(input_queue) > 0)\n",
    "            data[arg1] = input_queue.popleft()\n",
    "        else:\n",
    "            data[arg1] = int(input())\n",
    "        return interpret(data, pos + 2, input_queue, output_queue)\n",
    "    elif opcode == 4: # output\n",
    "        arg1 = data[pos+1]\n",
    "        val1 = fetch_value(data, arg1, mode1)\n",
    "        if output_queue != None:\n",
    "            output_queue.append(val1)\n",
    "        else:\n",
    "            print(val1)\n",
    "        return interpret(data, pos + 2, input_queue, output_queue)\n",
    "    elif opcode == 5: # jump-if-true\n",
    "        arg1 = data[pos+1]\n",
    "        arg2 = data[pos+2]\n",
    "\n",
    "        val1 = fetch_value(data, arg1, mode1)\n",
    "        val2 = fetch_value(data, arg2, mode2)\n",
    "        \n",
    "        if val1 != 0:\n",
    "            pos = val2\n",
    "            return interpret(data, pos, input_queue, output_queue)\n",
    "    \n",
    "        return interpret(data, pos+3, input_queue, output_queue)\n",
    "    elif opcode == 6: # jump-if-false\n",
    "        arg1 = data[pos+1]\n",
    "        arg2 = data[pos+2]\n",
    "\n",
    "        val1 = fetch_value(data, arg1, mode1)\n",
    "        val2 = fetch_value(data, arg2, mode2)\n",
    "        \n",
    "        if val1 == 0:\n",
    "            pos = val2\n",
    "            return interpret(data, pos, input_queue, output_queue)\n",
    "        \n",
    "        return interpret(data, pos+3, input_queue, output_queue)\n",
    "    elif opcode == 7: # less than\n",
    "        arg1 = data[pos+1]\n",
    "        arg2 = data[pos+2]\n",
    "        arg3 = data[pos+3]\n",
    "\n",
    "        val1 = fetch_value(data, arg1, mode1)\n",
    "        val2 = fetch_value(data, arg2, mode2)\n",
    "        assert(mode3 == 0)\n",
    "        \n",
    "        if val1 < val2:\n",
    "            data[arg3] = 1\n",
    "        else:\n",
    "            data[arg3] = 0\n",
    "        \n",
    "        return interpret(data, pos + 4, input_queue, output_queue)\n",
    "    elif opcode == 8: # equals\n",
    "        arg1 = data[pos+1]\n",
    "        arg2 = data[pos+2]\n",
    "        arg3 = data[pos+3]\n",
    "\n",
    "        val1 = fetch_value(data, arg1, mode1)\n",
    "        val2 = fetch_value(data, arg2, mode2)\n",
    "        assert(mode3 == 0)\n",
    "        \n",
    "        if val1 == val2:\n",
    "            data[arg3] = 1\n",
    "        else:\n",
    "            data[arg3] = 0\n",
    "        \n",
    "        return interpret(data, pos + 4, input_queue, output_queue)        \n",
    "    elif opcode == 99: # end\n",
    "        return data"
   ]
  },
  {
   "cell_type": "code",
   "execution_count": 5,
   "metadata": {},
   "outputs": [],
   "source": [
    "def load_input():\n",
    "    with open(\"input\") as infile:\n",
    "        data = infile.read()\n",
    "    data = data.rstrip()\n",
    "    input_data = data.split(\",\")\n",
    "    input_data = list(map(int, input_data))\n",
    "    return input_data"
   ]
  },
  {
   "cell_type": "code",
   "execution_count": 14,
   "metadata": {},
   "outputs": [],
   "source": [
    "ex1prog = [3,15,3,16,1002,16,10,16,1,16,15,15,4,15,99,0,0]"
   ]
  },
  {
   "cell_type": "code",
   "execution_count": 15,
   "metadata": {},
   "outputs": [],
   "source": [
    "ex1phase = [4,3,2,1,0]"
   ]
  },
  {
   "cell_type": "code",
   "execution_count": 16,
   "metadata": {},
   "outputs": [],
   "source": [
    "A, B, C, D, E = ex1prog.copy(), ex1prog.copy(), ex1prog.copy(), ex1prog.copy(), ex1prog.copy()"
   ]
  },
  {
   "cell_type": "code",
   "execution_count": 18,
   "metadata": {},
   "outputs": [
    {
     "name": "stdout",
     "output_type": "stream",
     "text": [
      "4\n",
      "0\n",
      "4\n"
     ]
    },
    {
     "data": {
      "text/plain": [
       "[3, 15, 3, 16, 1002, 16, 10, 16, 1, 16, 15, 15, 4, 15, 99, 4, 0]"
      ]
     },
     "execution_count": 18,
     "metadata": {},
     "output_type": "execute_result"
    }
   ],
   "source": [
    "interpret(A)"
   ]
  },
  {
   "cell_type": "code",
   "execution_count": 19,
   "metadata": {},
   "outputs": [
    {
     "name": "stdout",
     "output_type": "stream",
     "text": [
      "3\n",
      "4\n",
      "43\n"
     ]
    },
    {
     "data": {
      "text/plain": [
       "[3, 15, 3, 16, 1002, 16, 10, 16, 1, 16, 15, 15, 4, 15, 99, 43, 40]"
      ]
     },
     "execution_count": 19,
     "metadata": {},
     "output_type": "execute_result"
    }
   ],
   "source": [
    "interpret(B)"
   ]
  },
  {
   "cell_type": "code",
   "execution_count": 20,
   "metadata": {},
   "outputs": [
    {
     "name": "stdout",
     "output_type": "stream",
     "text": [
      "2\n",
      "43\n",
      "432\n"
     ]
    },
    {
     "data": {
      "text/plain": [
       "[3, 15, 3, 16, 1002, 16, 10, 16, 1, 16, 15, 15, 4, 15, 99, 432, 430]"
      ]
     },
     "execution_count": 20,
     "metadata": {},
     "output_type": "execute_result"
    }
   ],
   "source": [
    "interpret(C)"
   ]
  },
  {
   "cell_type": "code",
   "execution_count": 21,
   "metadata": {},
   "outputs": [
    {
     "name": "stdout",
     "output_type": "stream",
     "text": [
      "1\n",
      "432\n",
      "4321\n"
     ]
    },
    {
     "data": {
      "text/plain": [
       "[3, 15, 3, 16, 1002, 16, 10, 16, 1, 16, 15, 15, 4, 15, 99, 4321, 4320]"
      ]
     },
     "execution_count": 21,
     "metadata": {},
     "output_type": "execute_result"
    }
   ],
   "source": [
    "interpret(D)"
   ]
  },
  {
   "cell_type": "code",
   "execution_count": 22,
   "metadata": {},
   "outputs": [
    {
     "name": "stdout",
     "output_type": "stream",
     "text": [
      "0\n",
      "4321\n",
      "43210\n"
     ]
    },
    {
     "data": {
      "text/plain": [
       "[3, 15, 3, 16, 1002, 16, 10, 16, 1, 16, 15, 15, 4, 15, 99, 43210, 43210]"
      ]
     },
     "execution_count": 22,
     "metadata": {},
     "output_type": "execute_result"
    }
   ],
   "source": [
    "interpret(E)"
   ]
  },
  {
   "cell_type": "code",
   "execution_count": 23,
   "metadata": {},
   "outputs": [],
   "source": [
    "ex2prog = [3,23,3,24,1002,24,10,24,1002,23,-1,23,101,5,23,23,1,24,23,23,4,23,99,0,0]"
   ]
  },
  {
   "cell_type": "code",
   "execution_count": 24,
   "metadata": {},
   "outputs": [],
   "source": [
    "ex2phase = [0,1,2,3,4]"
   ]
  },
  {
   "cell_type": "code",
   "execution_count": 26,
   "metadata": {},
   "outputs": [],
   "source": [
    "A, B, C, D, E = ex2prog.copy(), ex2prog.copy(), ex2prog.copy(), ex2prog.copy(), ex2prog.copy()"
   ]
  },
  {
   "cell_type": "code",
   "execution_count": 28,
   "metadata": {},
   "outputs": [
    {
     "name": "stdout",
     "output_type": "stream",
     "text": [
      "0\n",
      "0\n",
      "5\n"
     ]
    }
   ],
   "source": [
    "output = interpret(A)"
   ]
  },
  {
   "cell_type": "code",
   "execution_count": 29,
   "metadata": {},
   "outputs": [
    {
     "name": "stdout",
     "output_type": "stream",
     "text": [
      "1\n",
      "5\n",
      "54\n"
     ]
    }
   ],
   "source": [
    "output = interpret(B)"
   ]
  },
  {
   "cell_type": "code",
   "execution_count": 30,
   "metadata": {},
   "outputs": [
    {
     "name": "stdout",
     "output_type": "stream",
     "text": [
      "2\n",
      "54\n",
      "543\n"
     ]
    }
   ],
   "source": [
    "output = interpret(C)"
   ]
  },
  {
   "cell_type": "code",
   "execution_count": 31,
   "metadata": {},
   "outputs": [
    {
     "name": "stdout",
     "output_type": "stream",
     "text": [
      "3\n",
      "543\n",
      "5432\n"
     ]
    }
   ],
   "source": [
    "output = interpret(D)"
   ]
  },
  {
   "cell_type": "code",
   "execution_count": 32,
   "metadata": {},
   "outputs": [
    {
     "name": "stdout",
     "output_type": "stream",
     "text": [
      "4\n",
      "5432\n",
      "54321\n"
     ]
    }
   ],
   "source": [
    "output = interpret(E)"
   ]
  },
  {
   "cell_type": "code",
   "execution_count": 33,
   "metadata": {},
   "outputs": [],
   "source": [
    "ex3prog = [3,31,3,32,1002,32,10,32,1001,31,-2,31,1007,31,0,33,1002,33,7,33,1,33,31,31,1,32,31,31,4,31,99,0,0,0]"
   ]
  },
  {
   "cell_type": "code",
   "execution_count": 34,
   "metadata": {},
   "outputs": [],
   "source": [
    "ex3phase = [1,0,4,3,2]"
   ]
  },
  {
   "cell_type": "code",
   "execution_count": 35,
   "metadata": {},
   "outputs": [],
   "source": [
    "A, B, C, D, E = ex3prog.copy(), ex3prog.copy(), ex3prog.copy(), ex3prog.copy(), ex3prog.copy()"
   ]
  },
  {
   "cell_type": "code",
   "execution_count": 37,
   "metadata": {},
   "outputs": [
    {
     "name": "stdout",
     "output_type": "stream",
     "text": [
      "1\n",
      "0\n",
      "6\n"
     ]
    }
   ],
   "source": [
    "output = interpret(A)"
   ]
  },
  {
   "cell_type": "code",
   "execution_count": 38,
   "metadata": {},
   "outputs": [
    {
     "name": "stdout",
     "output_type": "stream",
     "text": [
      "0\n",
      "6\n",
      "65\n"
     ]
    }
   ],
   "source": [
    "output = interpret(B)"
   ]
  },
  {
   "cell_type": "code",
   "execution_count": 39,
   "metadata": {},
   "outputs": [
    {
     "name": "stdout",
     "output_type": "stream",
     "text": [
      "4\n",
      "65\n",
      "652\n"
     ]
    }
   ],
   "source": [
    "output = interpret(C)"
   ]
  },
  {
   "cell_type": "code",
   "execution_count": 40,
   "metadata": {
    "scrolled": true
   },
   "outputs": [
    {
     "name": "stdout",
     "output_type": "stream",
     "text": [
      "3\n",
      "652\n",
      "6521\n"
     ]
    }
   ],
   "source": [
    "output = interpret(D)"
   ]
  },
  {
   "cell_type": "code",
   "execution_count": 41,
   "metadata": {},
   "outputs": [
    {
     "name": "stdout",
     "output_type": "stream",
     "text": [
      "2\n",
      "6521\n",
      "65210\n"
     ]
    }
   ],
   "source": [
    "output = interpret(E)"
   ]
  },
  {
   "cell_type": "code",
   "execution_count": 255,
   "metadata": {},
   "outputs": [],
   "source": [
    "def allPermutations(phases, fromPos=0):\n",
    "    if fromPos + 1 >= len(phases):\n",
    "        yield phases\n",
    "    else:\n",
    "        for p in allPermutations(phases, fromPos + 1):\n",
    "            yield p.copy()\n",
    "        for i in range(fromPos + 1, len(phases)):        \n",
    "            phases[fromPos], phases[i] = phases[i], phases[fromPos]\n",
    "            for p in allPermutations(phases, fromPos + 1):\n",
    "                yield p.copy()     \n",
    "            phases[fromPos], phases[i] = phases[i], phases[fromPos]"
   ]
  },
  {
   "cell_type": "code",
   "execution_count": 256,
   "metadata": {},
   "outputs": [
    {
     "data": {
      "text/plain": [
       "[['A', 'B', 'C'],\n",
       " ['A', 'C', 'B'],\n",
       " ['B', 'A', 'C'],\n",
       " ['B', 'C', 'A'],\n",
       " ['C', 'B', 'A'],\n",
       " ['C', 'A', 'B']]"
      ]
     },
     "execution_count": 256,
     "metadata": {},
     "output_type": "execute_result"
    }
   ],
   "source": [
    "list(allPermutations([\"A\", \"B\", \"C\"]))"
   ]
  },
  {
   "cell_type": "code",
   "execution_count": 257,
   "metadata": {},
   "outputs": [],
   "source": [
    "prog = load_input()"
   ]
  },
  {
   "cell_type": "code",
   "execution_count": 261,
   "metadata": {},
   "outputs": [],
   "source": [
    "amps = [0, 1, 2, 3, 4]"
   ]
  },
  {
   "cell_type": "code",
   "execution_count": 262,
   "metadata": {},
   "outputs": [],
   "source": [
    "def findBest(prog, amps):\n",
    "    bestPhases = None\n",
    "    highestOutput = None\n",
    "\n",
    "    for phases in allPermutations(amps):\n",
    "        inputVal = 0\n",
    "        for ampIndex, amp in enumerate(amps):\n",
    "            ampProg = prog.copy()\n",
    "            ampInput = deque([phases[ampIndex], inputVal])\n",
    "            ampOutput = deque()\n",
    "            interpret(ampProg, input_queue=ampInput, output_queue=ampOutput)\n",
    "            assert(len(ampInput) == 0)\n",
    "            outputSignal = ampOutput.pop()\n",
    "            assert(len(ampOutput) == 0)\n",
    "            if ampIndex == len(amps)-1:\n",
    "                if highestOutput:\n",
    "                    if outputSignal > highestOutput:\n",
    "                        highestOutput = outputSignal\n",
    "                        bestPhases = phases.copy()\n",
    "                else:\n",
    "                    highestOutput = outputSignal\n",
    "                    bestPhases = phases.copy()\n",
    "            else:\n",
    "                inputVal = outputSignal\n",
    "\n",
    "    return bestPhases, highestOutput"
   ]
  },
  {
   "cell_type": "code",
   "execution_count": 263,
   "metadata": {},
   "outputs": [
    {
     "data": {
      "text/plain": [
       "([4, 3, 2, 1, 0], 43210)"
      ]
     },
     "execution_count": 263,
     "metadata": {},
     "output_type": "execute_result"
    }
   ],
   "source": [
    "findBest(ex1prog, amps)"
   ]
  },
  {
   "cell_type": "code",
   "execution_count": 264,
   "metadata": {},
   "outputs": [
    {
     "data": {
      "text/plain": [
       "([0, 1, 2, 3, 4], 54321)"
      ]
     },
     "execution_count": 264,
     "metadata": {},
     "output_type": "execute_result"
    }
   ],
   "source": [
    "findBest(ex2prog, amps)"
   ]
  },
  {
   "cell_type": "code",
   "execution_count": 265,
   "metadata": {},
   "outputs": [
    {
     "data": {
      "text/plain": [
       "([1, 0, 4, 3, 2], 65210)"
      ]
     },
     "execution_count": 265,
     "metadata": {},
     "output_type": "execute_result"
    }
   ],
   "source": [
    "findBest(ex3prog, amps)"
   ]
  },
  {
   "cell_type": "code",
   "execution_count": 266,
   "metadata": {},
   "outputs": [
    {
     "data": {
      "text/plain": [
       "([2, 0, 1, 4, 3], 880726)"
      ]
     },
     "execution_count": 266,
     "metadata": {},
     "output_type": "execute_result"
    }
   ],
   "source": [
    "findBest(prog, amps)"
   ]
  }
 ],
 "metadata": {
  "kernelspec": {
   "display_name": "Python 3",
   "language": "python",
   "name": "python3"
  },
  "language_info": {
   "codemirror_mode": {
    "name": "ipython",
    "version": 3
   },
   "file_extension": ".py",
   "mimetype": "text/x-python",
   "name": "python",
   "nbconvert_exporter": "python",
   "pygments_lexer": "ipython3",
   "version": "3.7.4"
  }
 },
 "nbformat": 4,
 "nbformat_minor": 2
}
