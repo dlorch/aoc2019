{
 "cells": [
  {
   "cell_type": "code",
   "execution_count": 1,
   "metadata": {},
   "outputs": [],
   "source": [
    "import pandas as pd"
   ]
  },
  {
   "cell_type": "code",
   "execution_count": 2,
   "metadata": {},
   "outputs": [],
   "source": [
    "import string"
   ]
  },
  {
   "cell_type": "code",
   "execution_count": 3,
   "metadata": {},
   "outputs": [],
   "source": [
    "from math import floor"
   ]
  },
  {
   "cell_type": "code",
   "execution_count": 4,
   "metadata": {},
   "outputs": [],
   "source": [
    "def parse_opcode(opcode):\n",
    "    if opcode >= 100: # two-digit opcode\n",
    "        op    = opcode % 100\n",
    "        mode1 = floor(opcode % 1000 / 100)\n",
    "        mode2 = floor(opcode % 10000 / 1000)\n",
    "        mode3 = floor(opcode % 100000 / 10000)\n",
    "    else:\n",
    "        op = opcode\n",
    "        mode1, mode2, mode3 = 0, 0, 0 # position mode\n",
    "    return op, mode1, mode2, mode3"
   ]
  },
  {
   "cell_type": "code",
   "execution_count": 5,
   "metadata": {},
   "outputs": [
    {
     "data": {
      "text/plain": [
       "(1, 0, 0, 0)"
      ]
     },
     "execution_count": 5,
     "metadata": {},
     "output_type": "execute_result"
    }
   ],
   "source": [
    "parse_opcode(1)"
   ]
  },
  {
   "cell_type": "code",
   "execution_count": 6,
   "metadata": {},
   "outputs": [
    {
     "data": {
      "text/plain": [
       "(2, 0, 1, 0)"
      ]
     },
     "execution_count": 6,
     "metadata": {},
     "output_type": "execute_result"
    }
   ],
   "source": [
    "parse_opcode(1002)"
   ]
  },
  {
   "cell_type": "code",
   "execution_count": 7,
   "metadata": {},
   "outputs": [
    {
     "data": {
      "text/plain": [
       "0"
      ]
     },
     "execution_count": 7,
     "metadata": {},
     "output_type": "execute_result"
    }
   ],
   "source": [
    "floor(1002 % 1000 / 100)"
   ]
  },
  {
   "cell_type": "code",
   "execution_count": 8,
   "metadata": {},
   "outputs": [
    {
     "data": {
      "text/plain": [
       "1"
      ]
     },
     "execution_count": 8,
     "metadata": {},
     "output_type": "execute_result"
    }
   ],
   "source": [
    "floor(1002 % 10000 / 1000)"
   ]
  },
  {
   "cell_type": "code",
   "execution_count": 9,
   "metadata": {},
   "outputs": [
    {
     "data": {
      "text/plain": [
       "0"
      ]
     },
     "execution_count": 9,
     "metadata": {},
     "output_type": "execute_result"
    }
   ],
   "source": [
    "floor(1002 % 100000 / 10000)"
   ]
  },
  {
   "cell_type": "code",
   "execution_count": 10,
   "metadata": {},
   "outputs": [],
   "source": [
    "def fetch_value(data, arg, mode):\n",
    "    if mode == 0: # position\n",
    "        return data[arg]\n",
    "    elif mode == 1: # immediate\n",
    "        return arg"
   ]
  },
  {
   "cell_type": "code",
   "execution_count": 11,
   "metadata": {},
   "outputs": [
    {
     "data": {
      "text/plain": [
       "3"
      ]
     },
     "execution_count": 11,
     "metadata": {},
     "output_type": "execute_result"
    }
   ],
   "source": [
    "fetch_value([3,0,4,0,99], 0, 0)"
   ]
  },
  {
   "cell_type": "code",
   "execution_count": 12,
   "metadata": {},
   "outputs": [
    {
     "data": {
      "text/plain": [
       "42"
      ]
     },
     "execution_count": 12,
     "metadata": {},
     "output_type": "execute_result"
    }
   ],
   "source": [
    "fetch_value([3,0,4,0,99], 42, 1)"
   ]
  },
  {
   "cell_type": "code",
   "execution_count": 80,
   "metadata": {},
   "outputs": [],
   "source": [
    "def interpret(data, pos):\n",
    "    opcode, mode1, mode2, mode3 = parse_opcode(data[pos])\n",
    "    if opcode == 1: # add\n",
    "        arg1 = data[pos+1]\n",
    "        arg2 = data[pos+2]\n",
    "        arg3 = data[pos+3]\n",
    "        \n",
    "        val1 = fetch_value(data, arg1, mode1)\n",
    "        val2 = fetch_value(data, arg2, mode2)\n",
    "        assert(mode3 == 0)\n",
    "        \n",
    "        data[arg3] = val1 + val2\n",
    "        return interpret(data, pos + 4)\n",
    "    elif opcode == 2: # multiply\n",
    "        arg1 = data[pos+1]\n",
    "        arg2 = data[pos+2]\n",
    "        arg3 = data[pos+3]\n",
    "        \n",
    "        val1 = fetch_value(data, arg1, mode1)\n",
    "        val2 = fetch_value(data, arg2, mode2)\n",
    "        assert(mode3 == 0)\n",
    "        \n",
    "        data[arg3] = val1 * val2\n",
    "        return interpret(data, pos + 4)\n",
    "    elif opcode == 3: # input\n",
    "        arg1 = data[pos+1]\n",
    "        assert(mode1 == 0)\n",
    "        data[arg1] = int(input())\n",
    "        return interpret(data, pos + 2)\n",
    "    elif opcode == 4: # output\n",
    "        arg1 = data[pos+1]\n",
    "        val1 = fetch_value(data, arg1, mode1)\n",
    "        print(val1)\n",
    "        return interpret(data, pos + 2)\n",
    "    elif opcode == 5: # jump-if-true\n",
    "        arg1 = data[pos+1]\n",
    "        arg2 = data[pos+2]\n",
    "\n",
    "        val1 = fetch_value(data, arg1, mode1)\n",
    "        val2 = fetch_value(data, arg2, mode2)\n",
    "        \n",
    "        if val1 != 0:\n",
    "            pos = val2\n",
    "            return interpret(data, pos)\n",
    "    \n",
    "        return interpret(data, pos+3)\n",
    "    elif opcode == 6: # jump-if-false\n",
    "        arg1 = data[pos+1]\n",
    "        arg2 = data[pos+2]\n",
    "\n",
    "        val1 = fetch_value(data, arg1, mode1)\n",
    "        val2 = fetch_value(data, arg2, mode2)\n",
    "        \n",
    "        if val1 == 0:\n",
    "            pos = val2\n",
    "            return interpret(data, pos)\n",
    "        \n",
    "        return interpret(data, pos+3)\n",
    "    elif opcode == 7: # less than\n",
    "        arg1 = data[pos+1]\n",
    "        arg2 = data[pos+2]\n",
    "        arg3 = data[pos+3]\n",
    "\n",
    "        val1 = fetch_value(data, arg1, mode1)\n",
    "        val2 = fetch_value(data, arg2, mode2)\n",
    "        assert(mode3 == 0)\n",
    "        \n",
    "        if val1 < val2:\n",
    "            data[arg3] = 1\n",
    "        else:\n",
    "            data[arg3] = 0\n",
    "        \n",
    "        return interpret(data, pos + 4)\n",
    "    elif opcode == 8: # equals\n",
    "        arg1 = data[pos+1]\n",
    "        arg2 = data[pos+2]\n",
    "        arg3 = data[pos+3]\n",
    "\n",
    "        val1 = fetch_value(data, arg1, mode1)\n",
    "        val2 = fetch_value(data, arg2, mode2)\n",
    "        assert(mode3 == 0)\n",
    "        \n",
    "        if val1 == val2:\n",
    "            data[arg3] = 1\n",
    "        else:\n",
    "            data[arg3] = 0\n",
    "        \n",
    "        return interpret(data, pos + 4)        \n",
    "    elif opcode == 99: # end\n",
    "        return data"
   ]
  },
  {
   "cell_type": "code",
   "execution_count": 15,
   "metadata": {},
   "outputs": [
    {
     "name": "stdout",
     "output_type": "stream",
     "text": [
      "42\n"
     ]
    },
    {
     "data": {
      "text/plain": [
       "[42, 0, 4, 0, 99]"
      ]
     },
     "execution_count": 15,
     "metadata": {},
     "output_type": "execute_result"
    }
   ],
   "source": [
    "interpret([3,0,4,0,99], 0)"
   ]
  },
  {
   "cell_type": "code",
   "execution_count": 43,
   "metadata": {},
   "outputs": [
    {
     "data": {
      "text/plain": [
       "[1101, 100, -1, 4, 99]"
      ]
     },
     "execution_count": 43,
     "metadata": {},
     "output_type": "execute_result"
    }
   ],
   "source": [
    "interpret([1101,100,-1,4,0], 0)"
   ]
  },
  {
   "cell_type": "code",
   "execution_count": 58,
   "metadata": {},
   "outputs": [
    {
     "name": "stdout",
     "output_type": "stream",
     "text": [
      "8\n",
      "1\n"
     ]
    },
    {
     "data": {
      "text/plain": [
       "[3, 9, 8, 9, 10, 9, 4, 9, 99, 1, 8]"
      ]
     },
     "execution_count": 58,
     "metadata": {},
     "output_type": "execute_result"
    }
   ],
   "source": [
    "interpret([3,9,8,9,10,9,4,9,99,-1,8], 0)"
   ]
  },
  {
   "cell_type": "code",
   "execution_count": 60,
   "metadata": {},
   "outputs": [
    {
     "name": "stdout",
     "output_type": "stream",
     "text": [
      "7\n",
      "1\n"
     ]
    },
    {
     "data": {
      "text/plain": [
       "[3, 9, 7, 9, 10, 9, 4, 9, 99, 1, 8]"
      ]
     },
     "execution_count": 60,
     "metadata": {},
     "output_type": "execute_result"
    }
   ],
   "source": [
    "interpret([3,9,7,9,10,9,4,9,99,-1,8], 0)"
   ]
  },
  {
   "cell_type": "code",
   "execution_count": 62,
   "metadata": {},
   "outputs": [
    {
     "name": "stdout",
     "output_type": "stream",
     "text": [
      "9\n",
      "0\n"
     ]
    },
    {
     "data": {
      "text/plain": [
       "[3, 3, 1108, 0, 8, 3, 4, 3, 99]"
      ]
     },
     "execution_count": 62,
     "metadata": {},
     "output_type": "execute_result"
    }
   ],
   "source": [
    "interpret([3,3,1108,-1,8,3,4,3,99], 0)"
   ]
  },
  {
   "cell_type": "code",
   "execution_count": 65,
   "metadata": {},
   "outputs": [
    {
     "name": "stdout",
     "output_type": "stream",
     "text": [
      "7\n",
      "1\n"
     ]
    },
    {
     "data": {
      "text/plain": [
       "[3, 3, 1107, 1, 8, 3, 4, 3, 99]"
      ]
     },
     "execution_count": 65,
     "metadata": {},
     "output_type": "execute_result"
    }
   ],
   "source": [
    "interpret([3,3,1107,-1,8,3,4,3,99], 0)"
   ]
  },
  {
   "cell_type": "code",
   "execution_count": 84,
   "metadata": {},
   "outputs": [
    {
     "name": "stdout",
     "output_type": "stream",
     "text": [
      "2002\n",
      "1\n"
     ]
    },
    {
     "data": {
      "text/plain": [
       "[3, 12, 6, 12, 15, 1, 13, 14, 13, 4, 13, 99, 2002, 1, 1, 9]"
      ]
     },
     "execution_count": 84,
     "metadata": {},
     "output_type": "execute_result"
    }
   ],
   "source": [
    "interpret([3,12,6,12,15,1,13,14,13,4,13,99,-1,0,1,9], 0)"
   ]
  },
  {
   "cell_type": "code",
   "execution_count": 88,
   "metadata": {},
   "outputs": [
    {
     "name": "stdout",
     "output_type": "stream",
     "text": [
      "2002\n",
      "1\n"
     ]
    },
    {
     "data": {
      "text/plain": [
       "[3, 3, 1105, 2002, 9, 1101, 0, 0, 12, 4, 12, 99, 1]"
      ]
     },
     "execution_count": 88,
     "metadata": {},
     "output_type": "execute_result"
    }
   ],
   "source": [
    "interpret([3,3,1105,-1,9,1101,0,0,12,4,12,99,1], 0)"
   ]
  },
  {
   "cell_type": "code",
   "execution_count": 92,
   "metadata": {},
   "outputs": [
    {
     "name": "stdout",
     "output_type": "stream",
     "text": [
      "12\n",
      "1001\n"
     ]
    }
   ],
   "source": [
    "output_value = interpret([3,21,1008,21,8,20,1005,20,22,107,8,21,20,1006,20,31,\n",
    "1106,0,36,98,0,0,1002,21,125,20,4,20,1105,1,46,104,\n",
    "999,1105,1,46,1101,1000,1,20,4,20,1105,1,46,98,99], 0)"
   ]
  },
  {
   "cell_type": "code",
   "execution_count": 72,
   "metadata": {},
   "outputs": [],
   "source": [
    "def load_input():\n",
    "    with open(\"input\") as infile:\n",
    "        data = infile.read()\n",
    "        data = data.rstrip()\n",
    "        input_data = data.split(\",\")\n",
    "    input_data = list(map(int, input_data))\n",
    "    return input_data"
   ]
  },
  {
   "cell_type": "code",
   "execution_count": 78,
   "metadata": {},
   "outputs": [],
   "source": [
    "input_data = load_input()"
   ]
  },
  {
   "cell_type": "code",
   "execution_count": 79,
   "metadata": {},
   "outputs": [
    {
     "name": "stdout",
     "output_type": "stream",
     "text": [
      "1\n",
      "0\n",
      "0\n",
      "0\n",
      "0\n",
      "0\n",
      "0\n",
      "0\n",
      "0\n",
      "0\n",
      "15508323\n"
     ]
    }
   ],
   "source": [
    "output_data = interpret(input_data, 0)"
   ]
  },
  {
   "cell_type": "code",
   "execution_count": 93,
   "metadata": {},
   "outputs": [],
   "source": [
    "input_data = load_input()"
   ]
  },
  {
   "cell_type": "code",
   "execution_count": 94,
   "metadata": {},
   "outputs": [
    {
     "name": "stdout",
     "output_type": "stream",
     "text": [
      "5\n",
      "9006327\n"
     ]
    }
   ],
   "source": [
    "output_data = interpret(input_data, 0)"
   ]
  }
 ],
 "metadata": {
  "kernelspec": {
   "display_name": "Python 3",
   "language": "python",
   "name": "python3"
  },
  "language_info": {
   "codemirror_mode": {
    "name": "ipython",
    "version": 3
   },
   "file_extension": ".py",
   "mimetype": "text/x-python",
   "name": "python",
   "nbconvert_exporter": "python",
   "pygments_lexer": "ipython3",
   "version": "3.7.4"
  }
 },
 "nbformat": 4,
 "nbformat_minor": 2
}
