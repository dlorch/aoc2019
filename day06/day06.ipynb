{
 "cells": [
  {
   "cell_type": "code",
   "execution_count": 295,
   "metadata": {},
   "outputs": [],
   "source": [
    "map = \"\"\"COM)B\n",
    "B)C\n",
    "C)D\n",
    "D)E\n",
    "E)F\n",
    "B)G\n",
    "G)H\n",
    "D)I\n",
    "E)J\n",
    "J)K\n",
    "K)L\"\"\""
   ]
  },
  {
   "cell_type": "code",
   "execution_count": 296,
   "metadata": {},
   "outputs": [],
   "source": [
    "def parseMap(parseMap):\n",
    "    lines = parseMap.splitlines()\n",
    "    for line in lines:\n",
    "        objectA, objectB = line.split(\")\")\n",
    "        yield objectA, objectB"
   ]
  },
  {
   "cell_type": "code",
   "execution_count": 297,
   "metadata": {},
   "outputs": [
    {
     "name": "stdout",
     "output_type": "stream",
     "text": [
      "COM B\n",
      "B C\n",
      "C D\n",
      "D E\n",
      "E F\n",
      "B G\n",
      "G H\n",
      "D I\n",
      "E J\n",
      "J K\n",
      "K L\n"
     ]
    }
   ],
   "source": [
    "for objectAName, objectBName in parseMap(map):\n",
    "    print(objectAName, objectBName)"
   ]
  },
  {
   "cell_type": "code",
   "execution_count": 298,
   "metadata": {},
   "outputs": [],
   "source": [
    "from math import inf"
   ]
  },
  {
   "cell_type": "code",
   "execution_count": 320,
   "metadata": {},
   "outputs": [],
   "source": [
    "class SpaceObject:\n",
    "    def __init__(self, name):\n",
    "        self.name = name\n",
    "        self.children = []\n",
    "        self.parentObject = None\n",
    "        \n",
    "        # dijkstra\n",
    "        self.visited = False\n",
    "        self.distance = inf\n",
    "\n",
    "    def append(self, spaceObject):\n",
    "        spaceObject.parentObject = self\n",
    "        self.children.append(spaceObject)\n",
    "\n",
    "    def __repr__(self):\n",
    "        if self.parentObject:\n",
    "            return \"[%s, parent=%s, children=%d]\" % \\\n",
    "              (self.name, self.parentObject.name, len(self.children))\n",
    "        else:\n",
    "            return \"[%s, children=%d]\" % (self.name, len(self.children))"
   ]
  },
  {
   "cell_type": "code",
   "execution_count": 39,
   "metadata": {},
   "outputs": [],
   "source": [
    "orbitMap = SpaceObject(\"COM\")"
   ]
  },
  {
   "cell_type": "code",
   "execution_count": 40,
   "metadata": {},
   "outputs": [
    {
     "data": {
      "text/plain": [
       "[COM, children=0]"
      ]
     },
     "execution_count": 40,
     "metadata": {},
     "output_type": "execute_result"
    }
   ],
   "source": [
    "orbitMap"
   ]
  },
  {
   "cell_type": "code",
   "execution_count": 41,
   "metadata": {},
   "outputs": [],
   "source": [
    "def findObject(orbitMap, name):\n",
    "    if orbitMap.name == name:\n",
    "        return orbitMap\n",
    "\n",
    "    for childObject in orbitMap.children:\n",
    "        result = findObject(childObject, name)\n",
    "        if result:\n",
    "            return result\n",
    "\n",
    "    return None"
   ]
  },
  {
   "cell_type": "code",
   "execution_count": 42,
   "metadata": {},
   "outputs": [
    {
     "data": {
      "text/plain": [
       "'COM'"
      ]
     },
     "execution_count": 42,
     "metadata": {},
     "output_type": "execute_result"
    }
   ],
   "source": [
    "findObject(orbitMap, \"COM\").name"
   ]
  },
  {
   "cell_type": "code",
   "execution_count": 264,
   "metadata": {},
   "outputs": [],
   "source": [
    "def insertObject(orbitMap, spaceObject, parentName):\n",
    "    parent = findObject(orbitMap, parentName)\n",
    "    assert(parent != None)\n",
    "    parent.append(spaceObject)"
   ]
  },
  {
   "cell_type": "code",
   "execution_count": 46,
   "metadata": {},
   "outputs": [],
   "source": [
    "for parentName, childName in parseMap(map):\n",
    "    spaceObject = SpaceObject(childName)\n",
    "    insertObject(orbitMap, spaceObject, parentName)"
   ]
  },
  {
   "cell_type": "code",
   "execution_count": 47,
   "metadata": {},
   "outputs": [
    {
     "data": {
      "text/plain": [
       "[COM, children=1]"
      ]
     },
     "execution_count": 47,
     "metadata": {},
     "output_type": "execute_result"
    }
   ],
   "source": [
    "orbitMap"
   ]
  },
  {
   "cell_type": "code",
   "execution_count": 51,
   "metadata": {},
   "outputs": [],
   "source": [
    "D = findObject(orbitMap, \"D\")"
   ]
  },
  {
   "cell_type": "code",
   "execution_count": 52,
   "metadata": {},
   "outputs": [
    {
     "data": {
      "text/plain": [
       "[D, parent=C, children=2]"
      ]
     },
     "execution_count": 52,
     "metadata": {},
     "output_type": "execute_result"
    }
   ],
   "source": [
    "D"
   ]
  },
  {
   "cell_type": "code",
   "execution_count": 54,
   "metadata": {},
   "outputs": [],
   "source": [
    "def countOrbits(spaceObject):\n",
    "    if spaceObject.parentObject:\n",
    "        return 1 + countOrbits(spaceObject.parentObject)\n",
    "    else:\n",
    "        return 0"
   ]
  },
  {
   "cell_type": "code",
   "execution_count": 55,
   "metadata": {},
   "outputs": [
    {
     "data": {
      "text/plain": [
       "3"
      ]
     },
     "execution_count": 55,
     "metadata": {},
     "output_type": "execute_result"
    }
   ],
   "source": [
    "countOrbits(D)"
   ]
  },
  {
   "cell_type": "code",
   "execution_count": 56,
   "metadata": {},
   "outputs": [],
   "source": [
    "L = findObject(orbitMap, \"L\")"
   ]
  },
  {
   "cell_type": "code",
   "execution_count": 57,
   "metadata": {},
   "outputs": [
    {
     "data": {
      "text/plain": [
       "[L, parent=K, children=0]"
      ]
     },
     "execution_count": 57,
     "metadata": {},
     "output_type": "execute_result"
    }
   ],
   "source": [
    "L"
   ]
  },
  {
   "cell_type": "code",
   "execution_count": 58,
   "metadata": {},
   "outputs": [
    {
     "data": {
      "text/plain": [
       "7"
      ]
     },
     "execution_count": 58,
     "metadata": {},
     "output_type": "execute_result"
    }
   ],
   "source": [
    "countOrbits(L)"
   ]
  },
  {
   "cell_type": "code",
   "execution_count": 61,
   "metadata": {},
   "outputs": [],
   "source": [
    "COM = findObject(orbitMap, \"COM\")"
   ]
  },
  {
   "cell_type": "code",
   "execution_count": 62,
   "metadata": {},
   "outputs": [
    {
     "data": {
      "text/plain": [
       "[COM, children=1]"
      ]
     },
     "execution_count": 62,
     "metadata": {},
     "output_type": "execute_result"
    }
   ],
   "source": [
    "COM"
   ]
  },
  {
   "cell_type": "code",
   "execution_count": 166,
   "metadata": {},
   "outputs": [
    {
     "data": {
      "text/plain": [
       "0"
      ]
     },
     "execution_count": 166,
     "metadata": {},
     "output_type": "execute_result"
    }
   ],
   "source": [
    "countOrbits(COM)"
   ]
  },
  {
   "cell_type": "code",
   "execution_count": 170,
   "metadata": {},
   "outputs": [],
   "source": [
    "def listObjects(orbitMap):\n",
    "    result = [orbitMap]\n",
    "    for child in orbitMap.children:\n",
    "        result = result + listObjects(child)\n",
    "    return result"
   ]
  },
  {
   "cell_type": "code",
   "execution_count": 172,
   "metadata": {},
   "outputs": [
    {
     "data": {
      "text/plain": [
       "[[COM, children=1],\n",
       " [B, parent=COM, children=2],\n",
       " [C, parent=B, children=1],\n",
       " [D, parent=C, children=2],\n",
       " [E, parent=D, children=2],\n",
       " [F, parent=E, children=0],\n",
       " [J, parent=E, children=1],\n",
       " [K, parent=J, children=1],\n",
       " [L, parent=K, children=0],\n",
       " [I, parent=D, children=0],\n",
       " [G, parent=B, children=1],\n",
       " [H, parent=G, children=0]]"
      ]
     },
     "execution_count": 172,
     "metadata": {},
     "output_type": "execute_result"
    }
   ],
   "source": [
    "listObjects(COM)"
   ]
  },
  {
   "cell_type": "code",
   "execution_count": 174,
   "metadata": {},
   "outputs": [],
   "source": [
    "def computeTotalOrbits(orbitMap):\n",
    "    result = 0\n",
    "    for spaceObject in listObjects(orbitMap):\n",
    "        result += countOrbits(spaceObject)\n",
    "    return result"
   ]
  },
  {
   "cell_type": "code",
   "execution_count": 176,
   "metadata": {},
   "outputs": [
    {
     "data": {
      "text/plain": [
       "42"
      ]
     },
     "execution_count": 176,
     "metadata": {},
     "output_type": "execute_result"
    }
   ],
   "source": [
    "computeTotalOrbits(COM)"
   ]
  },
  {
   "cell_type": "code",
   "execution_count": 202,
   "metadata": {},
   "outputs": [],
   "source": [
    "import pandas as pd"
   ]
  },
  {
   "cell_type": "code",
   "execution_count": 359,
   "metadata": {},
   "outputs": [],
   "source": [
    "df = pd.read_csv(\"input\", delimiter=\")\", header=None)"
   ]
  },
  {
   "cell_type": "code",
   "execution_count": 360,
   "metadata": {},
   "outputs": [],
   "source": [
    "df.columns = [\"parent\", \"child\"]"
   ]
  },
  {
   "cell_type": "code",
   "execution_count": 361,
   "metadata": {},
   "outputs": [],
   "source": [
    "nodes = []"
   ]
  },
  {
   "cell_type": "code",
   "execution_count": 362,
   "metadata": {},
   "outputs": [],
   "source": [
    "vertices = {}"
   ]
  },
  {
   "cell_type": "code",
   "execution_count": 363,
   "metadata": {},
   "outputs": [],
   "source": [
    "for mapping in df.itertuples():\n",
    "    if not mapping.parent in nodes:\n",
    "        nodes.append(mapping.parent)\n",
    "\n",
    "    if not mapping.child in nodes:\n",
    "        nodes.append(mapping.child)        \n",
    "        \n",
    "    if mapping.parent in vertices:\n",
    "        vertices[mapping.parent].append(mapping.child)\n",
    "    else:\n",
    "        vertices[mapping.parent] = [mapping.child]"
   ]
  },
  {
   "cell_type": "code",
   "execution_count": 364,
   "metadata": {},
   "outputs": [
    {
     "data": {
      "text/plain": [
       "2307"
      ]
     },
     "execution_count": 364,
     "metadata": {},
     "output_type": "execute_result"
    }
   ],
   "source": [
    "len(nodes)"
   ]
  },
  {
   "cell_type": "code",
   "execution_count": 365,
   "metadata": {},
   "outputs": [
    {
     "data": {
      "text/plain": [
       "2097"
      ]
     },
     "execution_count": 365,
     "metadata": {},
     "output_type": "execute_result"
    }
   ],
   "source": [
    "len(vertices)"
   ]
  },
  {
   "cell_type": "code",
   "execution_count": 366,
   "metadata": {},
   "outputs": [],
   "source": [
    "root = None"
   ]
  },
  {
   "cell_type": "code",
   "execution_count": 367,
   "metadata": {},
   "outputs": [],
   "source": [
    "for node in nodes:\n",
    "    found = False\n",
    "\n",
    "    for children in vertices.values():\n",
    "        if node in children:\n",
    "            found = True\n",
    "            continue\n",
    "            \n",
    "    if not found:\n",
    "        root = node"
   ]
  },
  {
   "cell_type": "code",
   "execution_count": 368,
   "metadata": {},
   "outputs": [
    {
     "data": {
      "text/plain": [
       "'COM'"
      ]
     },
     "execution_count": 368,
     "metadata": {},
     "output_type": "execute_result"
    }
   ],
   "source": [
    "root"
   ]
  },
  {
   "cell_type": "code",
   "execution_count": 382,
   "metadata": {},
   "outputs": [],
   "source": [
    "rootObject = SpaceObject(\"COM\")"
   ]
  },
  {
   "cell_type": "code",
   "execution_count": 383,
   "metadata": {},
   "outputs": [],
   "source": [
    "def constructObjectMap(parentObject, nodes, vertices):\n",
    "    if parentObject.name in vertices:\n",
    "        for child in vertices[parentObject.name]:\n",
    "            childObject = SpaceObject(child)\n",
    "            constructObjectMap(childObject, nodes, vertices)\n",
    "            parentObject.append(childObject)"
   ]
  },
  {
   "cell_type": "code",
   "execution_count": 384,
   "metadata": {},
   "outputs": [],
   "source": [
    "constructObjectMap(rootObject, nodes, vertices)"
   ]
  },
  {
   "cell_type": "code",
   "execution_count": 385,
   "metadata": {},
   "outputs": [
    {
     "data": {
      "text/plain": [
       "[COM, children=1]"
      ]
     },
     "execution_count": 385,
     "metadata": {},
     "output_type": "execute_result"
    }
   ],
   "source": [
    "rootObject"
   ]
  },
  {
   "cell_type": "code",
   "execution_count": 373,
   "metadata": {},
   "outputs": [
    {
     "data": {
      "text/plain": [
       "2307"
      ]
     },
     "execution_count": 373,
     "metadata": {},
     "output_type": "execute_result"
    }
   ],
   "source": [
    "len(listObjects(rootObject))"
   ]
  },
  {
   "cell_type": "code",
   "execution_count": 374,
   "metadata": {},
   "outputs": [
    {
     "data": {
      "text/plain": [
       "453028"
      ]
     },
     "execution_count": 374,
     "metadata": {},
     "output_type": "execute_result"
    }
   ],
   "source": [
    "computeTotalOrbits(rootObject)"
   ]
  },
  {
   "cell_type": "code",
   "execution_count": 303,
   "metadata": {},
   "outputs": [],
   "source": [
    "map = \"\"\"COM)B\n",
    "B)C\n",
    "C)D\n",
    "D)E\n",
    "E)F\n",
    "B)G\n",
    "G)H\n",
    "D)I\n",
    "E)J\n",
    "J)K\n",
    "K)L\n",
    "K)YOU\n",
    "I)SAN\"\"\""
   ]
  },
  {
   "cell_type": "code",
   "execution_count": 304,
   "metadata": {},
   "outputs": [],
   "source": [
    "orbitMap = SpaceObject(\"COM\")"
   ]
  },
  {
   "cell_type": "code",
   "execution_count": 305,
   "metadata": {},
   "outputs": [],
   "source": [
    "for parentName, childName in parseMap(map):\n",
    "    spaceObject = SpaceObject(childName)\n",
    "    insertObject(orbitMap, spaceObject, parentName)"
   ]
  },
  {
   "cell_type": "code",
   "execution_count": 306,
   "metadata": {},
   "outputs": [
    {
     "data": {
      "text/plain": [
       "[COM, children=1]"
      ]
     },
     "execution_count": 306,
     "metadata": {},
     "output_type": "execute_result"
    }
   ],
   "source": [
    "orbitMap"
   ]
  },
  {
   "cell_type": "code",
   "execution_count": 307,
   "metadata": {},
   "outputs": [],
   "source": [
    "YOU = findObject(orbitMap, \"YOU\")"
   ]
  },
  {
   "cell_type": "code",
   "execution_count": 308,
   "metadata": {},
   "outputs": [
    {
     "data": {
      "text/plain": [
       "[YOU, parent=K, children=0]"
      ]
     },
     "execution_count": 308,
     "metadata": {},
     "output_type": "execute_result"
    }
   ],
   "source": [
    "YOU"
   ]
  },
  {
   "cell_type": "code",
   "execution_count": 309,
   "metadata": {},
   "outputs": [],
   "source": [
    "SAN = findObject(orbitMap, \"SAN\")"
   ]
  },
  {
   "cell_type": "code",
   "execution_count": 310,
   "metadata": {},
   "outputs": [
    {
     "data": {
      "text/plain": [
       "[SAN, parent=I, children=0]"
      ]
     },
     "execution_count": 310,
     "metadata": {},
     "output_type": "execute_result"
    }
   ],
   "source": [
    "SAN"
   ]
  },
  {
   "cell_type": "code",
   "execution_count": 336,
   "metadata": {},
   "outputs": [],
   "source": [
    "def unvisitedNeighbors(spaceObject):\n",
    "    neighbors = []\n",
    "    if spaceObject.parentObject and not spaceObject.parentObject.visited:\n",
    "        neighbors.append(spaceObject.parentObject)\n",
    "    for childObject in spaceObject.children:\n",
    "        if not childObject.visited:\n",
    "            neighbors.append(childObject)\n",
    "    return neighbors"
   ]
  },
  {
   "cell_type": "code",
   "execution_count": 337,
   "metadata": {},
   "outputs": [],
   "source": [
    "def dijkstra(current, unvisited, SAN):\n",
    "    tentativeDistance = current.distance + 1\n",
    "    for neighbor in unvisitedNeighbors(current):\n",
    "        neighbor.distance = min(tentativeDistance, neighbor.distance)\n",
    "    current.visited = True\n",
    "    unvisited.remove(current)\n",
    "    if current.name == SAN.name:\n",
    "        return current.distance\n",
    "    else:\n",
    "        smallestTentativeDistance = inf\n",
    "        nextCurrent = None\n",
    "        for candidate in unvisited:\n",
    "            if candidate.distance < smallestTentativeDistance:\n",
    "                smallestTentativeDistance = candidate.distance\n",
    "                nextCurrent = candidate\n",
    "        return dijkstra(nextCurrent, unvisited, SAN)"
   ]
  },
  {
   "cell_type": "code",
   "execution_count": 346,
   "metadata": {},
   "outputs": [],
   "source": [
    "unvisited = listObjects(orbitMap)"
   ]
  },
  {
   "cell_type": "code",
   "execution_count": 347,
   "metadata": {},
   "outputs": [],
   "source": [
    "YOU.distance = 0"
   ]
  },
  {
   "cell_type": "code",
   "execution_count": 348,
   "metadata": {},
   "outputs": [
    {
     "data": {
      "text/plain": [
       "4"
      ]
     },
     "execution_count": 348,
     "metadata": {},
     "output_type": "execute_result"
    }
   ],
   "source": [
    "dijkstra(YOU, unvisited, SAN) - 2"
   ]
  },
  {
   "cell_type": "code",
   "execution_count": 386,
   "metadata": {},
   "outputs": [],
   "source": [
    "YOU = findObject(rootObject, \"YOU\")"
   ]
  },
  {
   "cell_type": "code",
   "execution_count": 387,
   "metadata": {},
   "outputs": [
    {
     "data": {
      "text/plain": [
       "[YOU, parent=524, children=0]"
      ]
     },
     "execution_count": 387,
     "metadata": {},
     "output_type": "execute_result"
    }
   ],
   "source": [
    "YOU"
   ]
  },
  {
   "cell_type": "code",
   "execution_count": 388,
   "metadata": {},
   "outputs": [],
   "source": [
    "SAN = findObject(rootObject, \"SAN\")"
   ]
  },
  {
   "cell_type": "code",
   "execution_count": 389,
   "metadata": {},
   "outputs": [
    {
     "data": {
      "text/plain": [
       "[SAN, parent=8N9, children=0]"
      ]
     },
     "execution_count": 389,
     "metadata": {},
     "output_type": "execute_result"
    }
   ],
   "source": [
    "SAN"
   ]
  },
  {
   "cell_type": "code",
   "execution_count": 393,
   "metadata": {},
   "outputs": [],
   "source": [
    "unvisited = listObjects(rootObject)"
   ]
  },
  {
   "cell_type": "code",
   "execution_count": 394,
   "metadata": {},
   "outputs": [],
   "source": [
    "YOU.distance = 0"
   ]
  },
  {
   "cell_type": "code",
   "execution_count": 395,
   "metadata": {},
   "outputs": [
    {
     "data": {
      "text/plain": [
       "562"
      ]
     },
     "execution_count": 395,
     "metadata": {},
     "output_type": "execute_result"
    }
   ],
   "source": [
    "dijkstra(YOU, unvisited, SAN) - 2"
   ]
  }
 ],
 "metadata": {
  "kernelspec": {
   "display_name": "Python 3",
   "language": "python",
   "name": "python3"
  },
  "language_info": {
   "codemirror_mode": {
    "name": "ipython",
    "version": 3
   },
   "file_extension": ".py",
   "mimetype": "text/x-python",
   "name": "python",
   "nbconvert_exporter": "python",
   "pygments_lexer": "ipython3",
   "version": "3.7.4"
  }
 },
 "nbformat": 4,
 "nbformat_minor": 2
}
