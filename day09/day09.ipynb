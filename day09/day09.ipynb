{
 "cells": [
  {
   "cell_type": "code",
   "execution_count": 1,
   "metadata": {},
   "outputs": [],
   "source": [
    "from math import floor"
   ]
  },
  {
   "cell_type": "code",
   "execution_count": 2,
   "metadata": {},
   "outputs": [],
   "source": [
    "def parse_opcode(opcode):\n",
    "    if opcode >= 100: # two-digit opcode\n",
    "        op    = opcode % 100\n",
    "        mode1 = floor(opcode % 1000 / 100)\n",
    "        mode2 = floor(opcode % 10000 / 1000)\n",
    "        mode3 = floor(opcode % 100000 / 10000)\n",
    "    else:\n",
    "        op = opcode\n",
    "        mode1, mode2, mode3 = 0, 0, 0 # position mode\n",
    "    return op, mode1, mode2, mode3"
   ]
  },
  {
   "cell_type": "code",
   "execution_count": 12,
   "metadata": {},
   "outputs": [
    {
     "data": {
      "text/plain": [
       "(4, 2, 0, 0)"
      ]
     },
     "execution_count": 12,
     "metadata": {},
     "output_type": "execute_result"
    }
   ],
   "source": [
    "parse_opcode(204)"
   ]
  },
  {
   "cell_type": "code",
   "execution_count": 14,
   "metadata": {},
   "outputs": [],
   "source": [
    "opcode, mode1, mode2, mode3 = parse_opcode(109)"
   ]
  },
  {
   "cell_type": "code",
   "execution_count": 15,
   "metadata": {},
   "outputs": [
    {
     "data": {
      "text/plain": [
       "(9, 1, 0, 0)"
      ]
     },
     "execution_count": 15,
     "metadata": {},
     "output_type": "execute_result"
    }
   ],
   "source": [
    "opcode, mode1, mode2, mode3"
   ]
  },
  {
   "cell_type": "code",
   "execution_count": 30,
   "metadata": {},
   "outputs": [
    {
     "data": {
      "text/plain": [
       "(9, 1, 1, 1)"
      ]
     },
     "execution_count": 30,
     "metadata": {},
     "output_type": "execute_result"
    }
   ],
   "source": [
    "parse_opcode(11109)"
   ]
  },
  {
   "cell_type": "code",
   "execution_count": 31,
   "metadata": {},
   "outputs": [
    {
     "data": {
      "text/plain": [
       "(1, 0, 1, 0)"
      ]
     },
     "execution_count": 31,
     "metadata": {},
     "output_type": "execute_result"
    }
   ],
   "source": [
    "parse_opcode(1001)"
   ]
  },
  {
   "cell_type": "code",
   "execution_count": 105,
   "metadata": {},
   "outputs": [],
   "source": [
    "def fetch_value(data, arg, mode, base):\n",
    "    if mode == 0: # position\n",
    "        return data[arg]\n",
    "    elif mode == 1: # immediate\n",
    "        return arg\n",
    "    elif mode == 2: # relative\n",
    "        return data[base+arg]"
   ]
  },
  {
   "cell_type": "code",
   "execution_count": 127,
   "metadata": {},
   "outputs": [
    {
     "data": {
      "text/plain": [
       "3"
      ]
     },
     "execution_count": 127,
     "metadata": {},
     "output_type": "execute_result"
    }
   ],
   "source": [
    "fetch_value([3,0,4,0,99], -7, 2, 7)"
   ]
  },
  {
   "cell_type": "code",
   "execution_count": 135,
   "metadata": {},
   "outputs": [],
   "source": [
    "def store_value(data, arg, val, mode, base):\n",
    "    if mode == 0: # position\n",
    "        data[arg] = val\n",
    "    elif mode == 1: # immediate\n",
    "        raise ValueError(\"store_value cannot be immediate [arg=%d, val%d, mode=%d, base=%d]\" \\\n",
    "                        % (arg, val, mode, base))\n",
    "    elif mode == 2: # relative\n",
    "        data[base+arg] = val"
   ]
  },
  {
   "cell_type": "code",
   "execution_count": 148,
   "metadata": {},
   "outputs": [],
   "source": [
    "def interpret(data, pos, base):\n",
    "    opcode, mode1, mode2, mode3 = parse_opcode(data[pos])\n",
    "    if opcode == 1: # add\n",
    "        arg1 = data[pos+1]\n",
    "        arg2 = data[pos+2]\n",
    "        arg3 = data[pos+3]\n",
    "        \n",
    "        val1 = fetch_value(data, arg1, mode1, base)\n",
    "        val2 = fetch_value(data, arg2, mode2, base)\n",
    "        \n",
    "        store_value(data, arg3, val1 + val2, mode3, base)\n",
    "        return interpret(data, pos + 4, base)\n",
    "    elif opcode == 2: # multiply\n",
    "        arg1 = data[pos+1]\n",
    "        arg2 = data[pos+2]\n",
    "        arg3 = data[pos+3]\n",
    "        \n",
    "        val1 = fetch_value(data, arg1, mode1, base)\n",
    "        val2 = fetch_value(data, arg2, mode2, base)\n",
    "        \n",
    "        store_value(data, arg3, val1 * val2, mode3, base)\n",
    "        return interpret(data, pos + 4, base)\n",
    "    elif opcode == 3: # input\n",
    "        arg1 = data[pos+1]\n",
    "        \n",
    "        val1 = int(input())\n",
    "\n",
    "        store_value(data, arg1, val1, mode1, base)\n",
    "        return interpret(data, pos + 2, base)\n",
    "    elif opcode == 4: # output\n",
    "        arg1 = data[pos+1]\n",
    "        val1 = fetch_value(data, arg1, mode1, base)\n",
    "        print(val1)\n",
    "        return interpret(data, pos + 2, base)\n",
    "    elif opcode == 5: # jump-if-true\n",
    "        arg1 = data[pos+1]\n",
    "        arg2 = data[pos+2]\n",
    "\n",
    "        val1 = fetch_value(data, arg1, mode1, base)\n",
    "        val2 = fetch_value(data, arg2, mode2, base)\n",
    "        \n",
    "        if val1 != 0:\n",
    "            pos = val2\n",
    "            return interpret(data, pos, base)\n",
    "    \n",
    "        return interpret(data, pos+3, base)\n",
    "    elif opcode == 6: # jump-if-false\n",
    "        arg1 = data[pos+1]\n",
    "        arg2 = data[pos+2]\n",
    "\n",
    "        val1 = fetch_value(data, arg1, mode1, base)\n",
    "        val2 = fetch_value(data, arg2, mode2, base)\n",
    "        \n",
    "        if val1 == 0:\n",
    "            pos = val2\n",
    "            return interpret(data, pos, base)\n",
    "        \n",
    "        return interpret(data, pos+3, base)\n",
    "    elif opcode == 7: # less than\n",
    "        arg1 = data[pos+1]\n",
    "        arg2 = data[pos+2]\n",
    "        arg3 = data[pos+3]\n",
    "\n",
    "        val1 = fetch_value(data, arg1, mode1, base)\n",
    "        val2 = fetch_value(data, arg2, mode2, base)\n",
    "        \n",
    "        if val1 < val2:\n",
    "            store_value(data, arg3, 1, mode3, base)\n",
    "        else:\n",
    "            store_value(data, arg3, 0, mode3, base)\n",
    "        \n",
    "        return interpret(data, pos + 4, base)\n",
    "    elif opcode == 8: # equals\n",
    "        arg1 = data[pos+1]\n",
    "        arg2 = data[pos+2]\n",
    "        arg3 = data[pos+3]\n",
    "\n",
    "        val1 = fetch_value(data, arg1, mode1, base)\n",
    "        val2 = fetch_value(data, arg2, mode2, base)\n",
    "        \n",
    "        if val1 == val2:\n",
    "            store_value(data, arg3, 1, mode3, base)\n",
    "        else:\n",
    "            store_value(data, arg3, 0, mode3, base)\n",
    "        \n",
    "        return interpret(data, pos + 4, base)\n",
    "    elif opcode == 9: # adjust relative base\n",
    "        arg1 = data[pos+1]\n",
    "        \n",
    "        base = base + fetch_value(data, arg1, mode1, base)\n",
    "        \n",
    "        return interpret(data, pos + 2, base)\n",
    "    elif opcode == 99: # end\n",
    "        return data"
   ]
  },
  {
   "cell_type": "code",
   "execution_count": 115,
   "metadata": {},
   "outputs": [],
   "source": [
    "# ¯\\_(ツ)_/¯\n",
    "def growProg(ex2prog, amount):\n",
    "    for i in range(0, amount):\n",
    "        ex2prog.append(0)"
   ]
  },
  {
   "cell_type": "code",
   "execution_count": 116,
   "metadata": {},
   "outputs": [],
   "source": [
    "ex1prog = [109,1,204,-1,1001,100,1,100,1008,100,16,101,1006,101,0,99]"
   ]
  },
  {
   "cell_type": "code",
   "execution_count": 117,
   "metadata": {},
   "outputs": [
    {
     "data": {
      "text/plain": [
       "16"
      ]
     },
     "execution_count": 117,
     "metadata": {},
     "output_type": "execute_result"
    }
   ],
   "source": [
    "len(ex1prog)"
   ]
  },
  {
   "cell_type": "code",
   "execution_count": 118,
   "metadata": {},
   "outputs": [],
   "source": [
    "growProg(ex1prog, 100)"
   ]
  },
  {
   "cell_type": "code",
   "execution_count": 119,
   "metadata": {},
   "outputs": [
    {
     "data": {
      "text/plain": [
       "116"
      ]
     },
     "execution_count": 119,
     "metadata": {},
     "output_type": "execute_result"
    }
   ],
   "source": [
    "len(ex1prog)"
   ]
  },
  {
   "cell_type": "code",
   "execution_count": 120,
   "metadata": {},
   "outputs": [
    {
     "name": "stdout",
     "output_type": "stream",
     "text": [
      "109\n",
      "1\n",
      "204\n",
      "-1\n",
      "1001\n",
      "100\n",
      "1\n",
      "100\n",
      "1008\n",
      "100\n",
      "16\n",
      "101\n",
      "1006\n",
      "101\n",
      "0\n",
      "99\n"
     ]
    }
   ],
   "source": [
    "outprog = interpret(ex1prog, 0, 0)"
   ]
  },
  {
   "cell_type": "code",
   "execution_count": 121,
   "metadata": {},
   "outputs": [],
   "source": [
    "ex2prog = [1102,34915192,34915192,7,4,7,99,0]"
   ]
  },
  {
   "cell_type": "code",
   "execution_count": 122,
   "metadata": {},
   "outputs": [
    {
     "name": "stdout",
     "output_type": "stream",
     "text": [
      "1219070632396864\n"
     ]
    }
   ],
   "source": [
    "outprog = interpret(ex2prog, 0, 0)"
   ]
  },
  {
   "cell_type": "code",
   "execution_count": 123,
   "metadata": {},
   "outputs": [
    {
     "data": {
      "text/plain": [
       "16"
      ]
     },
     "execution_count": 123,
     "metadata": {},
     "output_type": "execute_result"
    }
   ],
   "source": [
    "len(\"1219070632396864\")"
   ]
  },
  {
   "cell_type": "code",
   "execution_count": 47,
   "metadata": {},
   "outputs": [],
   "source": [
    "ex3prog = [104,1125899906842624,99]"
   ]
  },
  {
   "cell_type": "code",
   "execution_count": 49,
   "metadata": {},
   "outputs": [
    {
     "name": "stdout",
     "output_type": "stream",
     "text": [
      "1125899906842624\n"
     ]
    }
   ],
   "source": [
    "outprog = interpret(ex3prog, 0, 0)"
   ]
  },
  {
   "cell_type": "code",
   "execution_count": 52,
   "metadata": {},
   "outputs": [],
   "source": [
    "def loadInput():\n",
    "    with open(\"input\") as infile:\n",
    "        data = infile.read()\n",
    "    data = data.rstrip()\n",
    "    inputData = data.split(\",\")\n",
    "    inputData = list(map(int, inputData))\n",
    "    return inputData"
   ]
  },
  {
   "cell_type": "code",
   "execution_count": 149,
   "metadata": {},
   "outputs": [],
   "source": [
    "inputData = loadInput()"
   ]
  },
  {
   "cell_type": "code",
   "execution_count": 150,
   "metadata": {},
   "outputs": [],
   "source": [
    "growProg(inputData, 10000)"
   ]
  },
  {
   "cell_type": "code",
   "execution_count": 151,
   "metadata": {},
   "outputs": [
    {
     "name": "stdout",
     "output_type": "stream",
     "text": [
      "1\n",
      "3454977209\n"
     ]
    }
   ],
   "source": [
    "outprog = interpret(inputData, 0, 0)"
   ]
  },
  {
   "cell_type": "code",
   "execution_count": 158,
   "metadata": {},
   "outputs": [],
   "source": [
    "def interpretIter(data):\n",
    "    running = True\n",
    "    pos = 0\n",
    "    base = 0\n",
    "\n",
    "    while running:\n",
    "        opcode, mode1, mode2, mode3 = parse_opcode(data[pos])\n",
    "        if opcode == 1: # add\n",
    "            arg1 = data[pos+1]\n",
    "            arg2 = data[pos+2]\n",
    "            arg3 = data[pos+3]\n",
    "            \n",
    "            val1 = fetch_value(data, arg1, mode1, base)\n",
    "            val2 = fetch_value(data, arg2, mode2, base)\n",
    "            \n",
    "            store_value(data, arg3, val1 + val2, mode3, base)\n",
    "            pos = pos + 4\n",
    "        elif opcode == 2: # multiply\n",
    "            arg1 = data[pos+1]\n",
    "            arg2 = data[pos+2]\n",
    "            arg3 = data[pos+3]\n",
    "            \n",
    "            val1 = fetch_value(data, arg1, mode1, base)\n",
    "            val2 = fetch_value(data, arg2, mode2, base)\n",
    "            \n",
    "            store_value(data, arg3, val1 * val2, mode3, base)\n",
    "            pos = pos + 4\n",
    "        elif opcode == 3: # input\n",
    "            arg1 = data[pos+1]\n",
    "            \n",
    "            val1 = int(input())\n",
    "\n",
    "            store_value(data, arg1, val1, mode1, base)\n",
    "            pos = pos + 2\n",
    "        elif opcode == 4: # output\n",
    "            arg1 = data[pos+1]\n",
    "            val1 = fetch_value(data, arg1, mode1, base)\n",
    "            print(val1)\n",
    "            pos = pos + 2\n",
    "        elif opcode == 5: # jump-if-true\n",
    "            arg1 = data[pos+1]\n",
    "            arg2 = data[pos+2]\n",
    "\n",
    "            val1 = fetch_value(data, arg1, mode1, base)\n",
    "            val2 = fetch_value(data, arg2, mode2, base)\n",
    "            \n",
    "            if val1 != 0:\n",
    "                pos = val2\n",
    "            else:\n",
    "                pos = pos + 3\n",
    "        elif opcode == 6: # jump-if-false\n",
    "            arg1 = data[pos+1]\n",
    "            arg2 = data[pos+2]\n",
    "\n",
    "            val1 = fetch_value(data, arg1, mode1, base)\n",
    "            val2 = fetch_value(data, arg2, mode2, base)\n",
    "            \n",
    "            if val1 == 0:\n",
    "                pos = val2\n",
    "            else:\n",
    "                pos = pos + 3\n",
    "        elif opcode == 7: # less than\n",
    "            arg1 = data[pos+1]\n",
    "            arg2 = data[pos+2]\n",
    "            arg3 = data[pos+3]\n",
    "\n",
    "            val1 = fetch_value(data, arg1, mode1, base)\n",
    "            val2 = fetch_value(data, arg2, mode2, base)\n",
    "            \n",
    "            if val1 < val2:\n",
    "                store_value(data, arg3, 1, mode3, base)\n",
    "            else:\n",
    "                store_value(data, arg3, 0, mode3, base)\n",
    "            \n",
    "            pos = pos + 4\n",
    "        elif opcode == 8: # equals\n",
    "            arg1 = data[pos+1]\n",
    "            arg2 = data[pos+2]\n",
    "            arg3 = data[pos+3]\n",
    "\n",
    "            val1 = fetch_value(data, arg1, mode1, base)\n",
    "            val2 = fetch_value(data, arg2, mode2, base)\n",
    "            \n",
    "            if val1 == val2:\n",
    "                store_value(data, arg3, 1, mode3, base)\n",
    "            else:\n",
    "                store_value(data, arg3, 0, mode3, base)\n",
    "            \n",
    "            pos = pos + 4\n",
    "        elif opcode == 9: # adjust relative base\n",
    "            arg1 = data[pos+1]\n",
    "            \n",
    "            base = base + fetch_value(data, arg1, mode1, base)\n",
    "            \n",
    "            pos = pos + 2\n",
    "        elif opcode == 99: # end\n",
    "            running = False"
   ]
  },
  {
   "cell_type": "code",
   "execution_count": 159,
   "metadata": {},
   "outputs": [],
   "source": [
    "inputData = loadInput()"
   ]
  },
  {
   "cell_type": "code",
   "execution_count": 160,
   "metadata": {},
   "outputs": [],
   "source": [
    "growProg(inputData, 10000)"
   ]
  },
  {
   "cell_type": "code",
   "execution_count": 163,
   "metadata": {},
   "outputs": [
    {
     "name": "stdout",
     "output_type": "stream",
     "text": [
      "2\n",
      "50120\n"
     ]
    }
   ],
   "source": [
    "outprog = interpretIter(inputData)"
   ]
  }
 ],
 "metadata": {
  "kernelspec": {
   "display_name": "Python 3",
   "language": "python",
   "name": "python3"
  },
  "language_info": {
   "codemirror_mode": {
    "name": "ipython",
    "version": 3
   },
   "file_extension": ".py",
   "mimetype": "text/x-python",
   "name": "python",
   "nbconvert_exporter": "python",
   "pygments_lexer": "ipython3",
   "version": "3.7.4"
  }
 },
 "nbformat": 4,
 "nbformat_minor": 2
}
